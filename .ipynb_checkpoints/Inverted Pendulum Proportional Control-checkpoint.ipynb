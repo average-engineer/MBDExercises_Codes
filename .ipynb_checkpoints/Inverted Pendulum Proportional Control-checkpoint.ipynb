{
 "cells": [
  {
   "cell_type": "code",
   "execution_count": 38,
   "id": "3bf9e208",
   "metadata": {},
   "outputs": [],
   "source": [
    "import sympy as syms\n",
    "import numpy as np\n",
    "import math\n",
    "import matplotlib.pyplot as plt\n",
    "\n",
    "from sympy import * # For basic mathematical operations\n",
    "syms.init_printing()\n",
    "from sympy import symbols\n",
    "from sympy import Matrix\n",
    "from sympy.matrices import eye, zeros, ones, Identity # Special matrices (eye creates explicit matrix, Identity creates matrix expression)\n",
    "from sympy import latex\n",
    "from sympy import solve\n",
    "from sympy import trigsimp # For simplifying trigonometric identities\n",
    "from sympy.simplify.fu import fu # For simplifying trigonometric identities (Hongguang Fu's Trigonometric Simplification)\n",
    "from sympy import Function # For expressing functions of time\n",
    "from sympy import expand, factor # For expanding/factoring expressions\n",
    "from sympy import Eq # For writing equations"
   ]
  },
  {
   "cell_type": "markdown",
   "id": "82a59f98",
   "metadata": {},
   "source": [
    "# Proportional Control of Inverted Pendulum\n",
    "\n",
    "\n",
    "![sys](Images/InvertedPendulum.jpg)\n",
    "\n",
    "The system is stabalised about the unstable equilibrium point of the inverted pendulum using a proportional controller, where the actuation input from the controller is given by:\n",
    "\n",
    "$$M_0 = K_p \\phi_2$$\n"
   ]
  },
  {
   "cell_type": "code",
   "execution_count": 21,
   "id": "2105f9ed",
   "metadata": {},
   "outputs": [
    {
     "data": {
      "image/png": "[encoded data removed]",
      "text/latex": [
       "$\\displaystyle \\lambda$"
      ],
      "text/plain": [
       "\\lambda"
      ]
     },
     "execution_count": 21,
     "metadata": {},
     "output_type": "execute_result"
    }
   ],
   "source": [
    "m,L,g,kp,t,lbda = symbols('m,L,g,k_p,t,\\lambda')\n",
    "# DOFs\n",
    "p1 = Function('\\phi_1')\n",
    "p1 = p1(t)\n",
    "p1d = Function('\\dot{\\phi_1}')\n",
    "p1d = p1d(t)\n",
    "p1dd = Function('\\ddot{\\phi_1}')\n",
    "p1dd = p1dd(t)\n",
    "\n",
    "p2 = Function('\\phi_2')\n",
    "p2 = p2(t)\n",
    "p2d = Function('\\dot{\\phi_2}')\n",
    "p2d = p2d(t)\n",
    "p2dd = Function('\\ddot{\\phi_2}')\n",
    "p2dd = p2dd(t)\n",
    "\n",
    "q = Matrix([[p1],[p2]])\n",
    "qd = Matrix([[p1d],[p2d]])\n",
    "qdd = Matrix([[p1dd],[p2dd]])\n",
    "lbda"
   ]
  },
  {
   "cell_type": "markdown",
   "id": "ae568c4f",
   "metadata": {},
   "source": [
    "## Linearised Closed Loop Dynamics of the System\n",
    "\n",
    "### Mass Matrix"
   ]
  },
  {
   "cell_type": "code",
   "execution_count": 5,
   "id": "8601eae7",
   "metadata": {},
   "outputs": [
    {
     "data": {
      "image/png": "[encoded data removed]",
      "text/latex": [
       "$\\displaystyle \\left[\\begin{matrix}\\frac{4 L^{2} m}{3} & \\frac{L^{2} m}{2}\\\\\\frac{L^{2} m}{2} & \\frac{L^{2} m}{3}\\end{matrix}\\right]$"
      ],
      "text/plain": [
       "⎡   2     2  ⎤\n",
       "⎢4⋅L ⋅m  L ⋅m⎥\n",
       "⎢──────  ────⎥\n",
       "⎢  3      2  ⎥\n",
       "⎢            ⎥\n",
       "⎢  2      2  ⎥\n",
       "⎢ L ⋅m   L ⋅m⎥\n",
       "⎢ ────   ────⎥\n",
       "⎣  2      3  ⎦"
      ]
     },
     "execution_count": 5,
     "metadata": {},
     "output_type": "execute_result"
    }
   ],
   "source": [
    "M = Matrix([[Rational(4,3)*m*L**2,Rational(1,2)*m*L**2],[Rational(1,2)*m*L**2,Rational(1,3)*m*L**2]])\n",
    "M"
   ]
  },
  {
   "cell_type": "markdown",
   "id": "eadc1bbd",
   "metadata": {},
   "source": [
    "### Matrix of Velocity Dependent Forces"
   ]
  },
  {
   "cell_type": "code",
   "execution_count": 11,
   "id": "2534c69f",
   "metadata": {},
   "outputs": [
    {
     "data": {
      "image/png": "[encoded data removed]",
      "text/latex": [
       "$\\displaystyle \\left[\\begin{matrix}0 & 0\\\\0 & 0\\end{matrix}\\right]$"
      ],
      "text/plain": [
       "⎡0  0⎤\n",
       "⎢    ⎥\n",
       "⎣0  0⎦"
      ]
     },
     "execution_count": 11,
     "metadata": {},
     "output_type": "execute_result"
    }
   ],
   "source": [
    "P = zeros(q.shape[0],q.shape[0])\n",
    "P"
   ]
  },
  {
   "cell_type": "markdown",
   "id": "5c56448d",
   "metadata": {},
   "source": [
    "### Matrix of Position dependent forces"
   ]
  },
  {
   "cell_type": "code",
   "execution_count": 6,
   "id": "1bc6c11d",
   "metadata": {},
   "outputs": [
    {
     "data": {
      "image/png": "[encoded data removed]",
      "text/latex": [
       "$\\displaystyle \\left[\\begin{matrix}0 & k_{p}\\\\0 & - L g m\\end{matrix}\\right]$"
      ],
      "text/plain": [
       "⎡0    kₚ  ⎤\n",
       "⎢         ⎥\n",
       "⎣0  -L⋅g⋅m⎦"
      ]
     },
     "execution_count": 6,
     "metadata": {},
     "output_type": "execute_result"
    }
   ],
   "source": [
    "Q = Matrix([[0,kp],[0,-m*g*L]])\n",
    "Q"
   ]
  },
  {
   "cell_type": "markdown",
   "id": "999f20da",
   "metadata": {},
   "source": [
    "### Excitation Vector"
   ]
  },
  {
   "cell_type": "code",
   "execution_count": 13,
   "id": "e27951ed",
   "metadata": {},
   "outputs": [
    {
     "data": {
      "image/png": "[encoded data removed]",
      "text/latex": [
       "$\\displaystyle \\left[\\begin{matrix}0\\\\0\\end{matrix}\\right]$"
      ],
      "text/plain": [
       "⎡0⎤\n",
       "⎢ ⎥\n",
       "⎣0⎦"
      ]
     },
     "execution_count": 13,
     "metadata": {},
     "output_type": "execute_result"
    }
   ],
   "source": [
    "h = zeros(q.shape[0],1)\n",
    "h"
   ]
  },
  {
   "cell_type": "code",
   "execution_count": 14,
   "id": "58da5100",
   "metadata": {},
   "outputs": [
    {
     "data": {
      "image/png": "[encoded data removed]",
      "text/latex": [
       "$\\displaystyle \\left[\\begin{matrix}\\frac{4 L^{2} m \\ddot{\\phi_1}{\\left(t \\right)}}{3} + \\frac{L^{2} m \\ddot{\\phi_2}{\\left(t \\right)}}{2} + k_{p} \\phi_{2}{\\left(t \\right)}\\\\\\frac{L^{2} m \\ddot{\\phi_1}{\\left(t \\right)}}{2} + \\frac{L^{2} m \\ddot{\\phi_2}{\\left(t \\right)}}{3} - L g m \\phi_{2}{\\left(t \\right)}\\end{matrix}\\right] = \\left[\\begin{matrix}0\\\\0\\end{matrix}\\right]$"
      ],
      "text/plain": [
       "⎡   2                       2                                  ⎤      \n",
       "⎢4⋅L ⋅m⋅\\ddot{\\phi_1}(t)   L ⋅m⋅\\ddot{\\phi_2}(t)               ⎥      \n",
       "⎢─────────────────────── + ───────────────────── + kₚ⋅\\phi₂(t) ⎥      \n",
       "⎢           3                        2                         ⎥   ⎡0⎤\n",
       "⎢                                                              ⎥ = ⎢ ⎥\n",
       "⎢ 2                       2                                    ⎥   ⎣0⎦\n",
       "⎢L ⋅m⋅\\ddot{\\phi_1}(t)   L ⋅m⋅\\ddot{\\phi_2}(t)                 ⎥      \n",
       "⎢───────────────────── + ───────────────────── - L⋅g⋅m⋅\\phi₂(t)⎥      \n",
       "⎣          2                       3                           ⎦      "
      ]
     },
     "execution_count": 14,
     "metadata": {},
     "output_type": "execute_result"
    }
   ],
   "source": [
    "linEq = Eq(M*qdd + P*qd + Q*q,h)\n",
    "linEq"
   ]
  },
  {
   "cell_type": "markdown",
   "id": "4d6b45b8",
   "metadata": {},
   "source": [
    "## State Space Representation\n",
    "\n",
    "### System Matrix"
   ]
  },
  {
   "cell_type": "code",
   "execution_count": 16,
   "id": "52c338a3",
   "metadata": {},
   "outputs": [
    {
     "data": {
      "image/png": "[encoded data removed]",
      "text/latex": [
       "$\\displaystyle \\left[\\begin{matrix}0 & 0 & 1 & 0\\\\0 & 0 & 0 & 1\\\\0 & - \\frac{18 g}{7 L} - \\frac{12 k_{p}}{7 L^{2} m} & 0 & 0\\\\0 & \\frac{48 g}{7 L} + \\frac{18 k_{p}}{7 L^{2} m} & 0 & 0\\end{matrix}\\right]$"
      ],
      "text/plain": [
       "⎡0         0         1  0⎤\n",
       "⎢                        ⎥\n",
       "⎢0         0         0  1⎥\n",
       "⎢                        ⎥\n",
       "⎢     18⋅g   12⋅kₚ       ⎥\n",
       "⎢0  - ──── - ──────  0  0⎥\n",
       "⎢     7⋅L       2        ⎥\n",
       "⎢            7⋅L ⋅m      ⎥\n",
       "⎢                        ⎥\n",
       "⎢    48⋅g   18⋅kₚ        ⎥\n",
       "⎢0   ──── + ──────   0  0⎥\n",
       "⎢    7⋅L       2         ⎥\n",
       "⎣           7⋅L ⋅m       ⎦"
      ]
     },
     "execution_count": 16,
     "metadata": {},
     "output_type": "execute_result"
    }
   ],
   "source": [
    "A = Matrix([[zeros(qdd.shape[0]),eye(qdd.shape[0])],[-(M**(-1))*Q,-(M**(-1))*P]])\n",
    "A"
   ]
  },
  {
   "cell_type": "markdown",
   "id": "f8792aaa",
   "metadata": {},
   "source": [
    "### State Vector"
   ]
  },
  {
   "cell_type": "code",
   "execution_count": 17,
   "id": "39bd0548",
   "metadata": {},
   "outputs": [
    {
     "data": {
      "image/png": "[encoded data removed]",
      "text/latex": [
       "$\\displaystyle \\left[\\begin{matrix}\\dot{\\phi_1}{\\left(t \\right)}\\\\\\dot{\\phi_2}{\\left(t \\right)}\\\\\\ddot{\\phi_1}{\\left(t \\right)}\\\\\\ddot{\\phi_2}{\\left(t \\right)}\\end{matrix}\\right]$"
      ],
      "text/plain": [
       "⎡\\dot{\\phi_1}(t) ⎤\n",
       "⎢                ⎥\n",
       "⎢\\dot{\\phi_2}(t) ⎥\n",
       "⎢                ⎥\n",
       "⎢\\ddot{\\phi_1}(t)⎥\n",
       "⎢                ⎥\n",
       "⎣\\ddot{\\phi_2}(t)⎦"
      ]
     },
     "execution_count": 17,
     "metadata": {},
     "output_type": "execute_result"
    }
   ],
   "source": [
    "w = Matrix([[q],[qd]])\n",
    "wd = Matrix([[qd],[qdd]])\n",
    "wd"
   ]
  },
  {
   "cell_type": "markdown",
   "id": "60c72d22",
   "metadata": {},
   "source": [
    "### Excitation Vector"
   ]
  },
  {
   "cell_type": "code",
   "execution_count": 19,
   "id": "929c7993",
   "metadata": {},
   "outputs": [
    {
     "data": {
      "image/png": "[encoded data removed]",
      "text/latex": [
       "$\\displaystyle \\left[\\begin{matrix}0\\\\0\\\\0\\\\0\\end{matrix}\\right]$"
      ],
      "text/plain": [
       "⎡0⎤\n",
       "⎢ ⎥\n",
       "⎢0⎥\n",
       "⎢ ⎥\n",
       "⎢0⎥\n",
       "⎢ ⎥\n",
       "⎣0⎦"
      ]
     },
     "execution_count": 19,
     "metadata": {},
     "output_type": "execute_result"
    }
   ],
   "source": [
    "b = Matrix([[zeros(q.shape[0],1)],[(M**(-1))*h]])\n",
    "b"
   ]
  },
  {
   "cell_type": "markdown",
   "id": "52adbf44",
   "metadata": {},
   "source": [
    "### State Space Equation"
   ]
  },
  {
   "cell_type": "code",
   "execution_count": 20,
   "id": "b9c2aa4c",
   "metadata": {},
   "outputs": [
    {
     "data": {
      "image/png": "[encoded data removed]",
      "text/latex": [
       "$\\displaystyle \\left[\\begin{matrix}\\dot{\\phi_1}{\\left(t \\right)}\\\\\\dot{\\phi_2}{\\left(t \\right)}\\\\\\ddot{\\phi_1}{\\left(t \\right)}\\\\\\ddot{\\phi_2}{\\left(t \\right)}\\end{matrix}\\right] = \\left[\\begin{matrix}\\dot{\\phi_1}{\\left(t \\right)}\\\\\\dot{\\phi_2}{\\left(t \\right)}\\\\\\left(- \\frac{18 g}{7 L} - \\frac{12 k_{p}}{7 L^{2} m}\\right) \\phi_{2}{\\left(t \\right)}\\\\\\left(\\frac{48 g}{7 L} + \\frac{18 k_{p}}{7 L^{2} m}\\right) \\phi_{2}{\\left(t \\right)}\\end{matrix}\\right]$"
      ],
      "text/plain": [
       "                     ⎡     \\dot{\\phi_1}(t)      ⎤\n",
       "                     ⎢                          ⎥\n",
       "                     ⎢     \\dot{\\phi_2}(t)      ⎥\n",
       "⎡\\dot{\\phi_1}(t) ⎤   ⎢                          ⎥\n",
       "⎢                ⎥   ⎢⎛  18⋅g   12⋅kₚ ⎞         ⎥\n",
       "⎢\\dot{\\phi_2}(t) ⎥   ⎢⎜- ──── - ──────⎟⋅\\phi₂(t)⎥\n",
       "⎢                ⎥ = ⎢⎜  7⋅L       2  ⎟         ⎥\n",
       "⎢\\ddot{\\phi_1}(t)⎥   ⎢⎝         7⋅L ⋅m⎠         ⎥\n",
       "⎢                ⎥   ⎢                          ⎥\n",
       "⎣\\ddot{\\phi_2}(t)⎦   ⎢ ⎛48⋅g   18⋅kₚ ⎞          ⎥\n",
       "                     ⎢ ⎜──── + ──────⎟⋅\\phi₂(t) ⎥\n",
       "                     ⎢ ⎜7⋅L       2  ⎟          ⎥\n",
       "                     ⎣ ⎝       7⋅L ⋅m⎠          ⎦"
      ]
     },
     "execution_count": 20,
     "metadata": {},
     "output_type": "execute_result"
    }
   ],
   "source": [
    "ssEq = Eq(wd,A*w + b)\n",
    "ssEq"
   ]
  },
  {
   "cell_type": "markdown",
   "id": "47a058a2",
   "metadata": {},
   "source": [
    "## Specialised Eigenvalue Equation for the problem\n",
    "\n",
    "The normalised characteristic polynomial will be given by:"
   ]
  },
  {
   "cell_type": "code",
   "execution_count": 24,
   "id": "679124b9",
   "metadata": {},
   "outputs": [
    {
     "data": {
      "image/png": "[encoded data removed]",
      "text/latex": [
       "$\\displaystyle \\left[\\begin{matrix}\\lambda & 0 & -1 & 0\\\\0 & \\lambda & 0 & -1\\\\0 & \\frac{18 g}{7 L} + \\frac{12 k_{p}}{7 L^{2} m} & \\lambda & 0\\\\0 & - \\frac{48 g}{7 L} - \\frac{18 k_{p}}{7 L^{2} m} & 0 & \\lambda\\end{matrix}\\right]$"
      ],
      "text/plain": [
       "⎡\\lambda         0           -1        0   ⎤\n",
       "⎢                                          ⎥\n",
       "⎢   0         \\lambda         0       -1   ⎥\n",
       "⎢                                          ⎥\n",
       "⎢          18⋅g   12⋅kₚ                    ⎥\n",
       "⎢   0      ──── + ──────   \\lambda     0   ⎥\n",
       "⎢          7⋅L       2                     ⎥\n",
       "⎢                 7⋅L ⋅m                   ⎥\n",
       "⎢                                          ⎥\n",
       "⎢           48⋅g   18⋅kₚ                   ⎥\n",
       "⎢   0     - ──── - ──────     0     \\lambda⎥\n",
       "⎢           7⋅L       2                    ⎥\n",
       "⎣                  7⋅L ⋅m                  ⎦"
      ]
     },
     "execution_count": 24,
     "metadata": {},
     "output_type": "execute_result"
    }
   ],
   "source": [
    "evp = lbda*eye(A.shape[0]) - A\n",
    "evp"
   ]
  },
  {
   "cell_type": "code",
   "execution_count": 25,
   "id": "36eaf66c",
   "metadata": {},
   "outputs": [
    {
     "data": {
      "image/png": "[encoded data removed]",
      "text/latex": [
       "$\\displaystyle \\frac{\\lambda^{2} \\cdot \\left(7 L^{2} \\lambda^{2} m - 48 L g m - 18 k_{p}\\right)}{7 L^{2} m}$"
      ],
      "text/plain": [
       "       2 ⎛   2        2                     ⎞\n",
       "\\lambda ⋅⎝7⋅L ⋅\\lambda ⋅m - 48⋅L⋅g⋅m - 18⋅kₚ⎠\n",
       "─────────────────────────────────────────────\n",
       "                       2                     \n",
       "                    7⋅L ⋅m                   "
      ]
     },
     "execution_count": 25,
     "metadata": {},
     "output_type": "execute_result"
    }
   ],
   "source": [
    "cp = evp.det()\n",
    "cp"
   ]
  },
  {
   "cell_type": "markdown",
   "id": "58b716ad",
   "metadata": {},
   "source": [
    "## Eigenvalues\n"
   ]
  },
  {
   "cell_type": "code",
   "execution_count": 26,
   "id": "edccee20",
   "metadata": {},
   "outputs": [
    {
     "data": {
      "image/png": "[encoded data removed]",
      "text/latex": [
       "$\\displaystyle \\left[ 0, \\  - \\frac{\\sqrt{336 L g + \\frac{126 k_{p}}{m}}}{7 L}, \\  \\frac{\\sqrt{336 L g + \\frac{126 k_{p}}{m}}}{7 L}\\right]$"
      ],
      "text/plain": [
       "⎡        __________________       __________________⎤\n",
       "⎢       ╱           126⋅kₚ       ╱           126⋅kₚ ⎥\n",
       "⎢   -  ╱  336⋅L⋅g + ──────      ╱  336⋅L⋅g + ────── ⎥\n",
       "⎢    ╲╱               m       ╲╱               m    ⎥\n",
       "⎢0, ────────────────────────, ──────────────────────⎥\n",
       "⎣             7⋅L                      7⋅L          ⎦"
      ]
     },
     "execution_count": 26,
     "metadata": {},
     "output_type": "execute_result"
    }
   ],
   "source": [
    "lbdas = solve(cp,lbda)\n",
    "lbdas"
   ]
  },
  {
   "cell_type": "markdown",
   "id": "e5a6c607",
   "metadata": {},
   "source": [
    "## Eigenvectors"
   ]
  },
  {
   "cell_type": "code",
   "execution_count": 27,
   "id": "e17344dd",
   "metadata": {},
   "outputs": [],
   "source": [
    "x11,x12,x21,x22 = symbols('x_{11} x_{12} x_{21} x_{22}')\n",
    "\n",
    "# First Eigenvector (Mode shape for the 1st DOF)\n",
    "x1 = Matrix([[x11],[x12]])\n",
    "# Second Eigenvector (Mode shape for the 2nd DOF)\n",
    "x2 = Matrix([[x21],[x22]])"
   ]
  },
  {
   "cell_type": "markdown",
   "id": "a8e0d429",
   "metadata": {},
   "source": [
    "**Based on the *Ansatz Function* taken for the DOFs, we can write the 1st time derivatives of the eigenvector as:**"
   ]
  },
  {
   "cell_type": "code",
   "execution_count": 28,
   "id": "b246f065",
   "metadata": {},
   "outputs": [
    {
     "data": {
      "image/png": "[encoded data removed]",
      "text/latex": [
       "$\\displaystyle \\left[\\begin{matrix}\\lambda x_{21}\\\\\\lambda x_{22}\\end{matrix}\\right]$"
      ],
      "text/plain": [
       "⎡\\lambda⋅x_{21}⎤\n",
       "⎢              ⎥\n",
       "⎣\\lambda⋅x_{22}⎦"
      ]
     },
     "execution_count": 28,
     "metadata": {},
     "output_type": "execute_result"
    }
   ],
   "source": [
    "x1d = lbda*x1\n",
    "x2d = lbda*x2\n",
    "x2d"
   ]
  },
  {
   "cell_type": "markdown",
   "id": "ea46b8b3",
   "metadata": {},
   "source": [
    "### State Space Eigenvectors"
   ]
  },
  {
   "cell_type": "code",
   "execution_count": 29,
   "id": "8196fdbe",
   "metadata": {},
   "outputs": [
    {
     "data": {
      "image/png": "[encoded data removed]",
      "text/latex": [
       "$\\displaystyle \\left[\\begin{matrix}x_{21}\\\\x_{22}\\\\\\lambda x_{21}\\\\\\lambda x_{22}\\end{matrix}\\right]$"
      ],
      "text/plain": [
       "⎡    x_{21}    ⎤\n",
       "⎢              ⎥\n",
       "⎢    x_{22}    ⎥\n",
       "⎢              ⎥\n",
       "⎢\\lambda⋅x_{21}⎥\n",
       "⎢              ⎥\n",
       "⎣\\lambda⋅x_{22}⎦"
      ]
     },
     "execution_count": 29,
     "metadata": {},
     "output_type": "execute_result"
    }
   ],
   "source": [
    "w1 = Matrix([[x1],[x1d]])\n",
    "w2 = Matrix([[x2],[x2d]])\n",
    "w2"
   ]
  },
  {
   "cell_type": "code",
   "execution_count": 30,
   "id": "20e4ea32",
   "metadata": {},
   "outputs": [
    {
     "data": {
      "image/png": "[encoded data removed]",
      "text/latex": [
       "$\\displaystyle \\left[\\begin{matrix}0\\\\0\\\\\\lambda^{2} x_{11} + x_{12} \\cdot \\left(\\frac{18 g}{7 L} + \\frac{12 k_{p}}{7 L^{2} m}\\right)\\\\\\lambda^{2} x_{12} + x_{12} \\left(- \\frac{48 g}{7 L} - \\frac{18 k_{p}}{7 L^{2} m}\\right)\\end{matrix}\\right] = \\left[\\begin{matrix}0\\\\0\\\\0\\\\0\\end{matrix}\\right]$"
      ],
      "text/plain": [
       "⎡                    0                     ⎤      \n",
       "⎢                                          ⎥      \n",
       "⎢                    0                     ⎥      \n",
       "⎢                                          ⎥   ⎡0⎤\n",
       "⎢        2                 ⎛18⋅g   12⋅kₚ ⎞ ⎥   ⎢ ⎥\n",
       "⎢ \\lambda ⋅x_{11} + x_{12}⋅⎜──── + ──────⎟ ⎥   ⎢0⎥\n",
       "⎢                          ⎜7⋅L       2  ⎟ ⎥ = ⎢ ⎥\n",
       "⎢                          ⎝       7⋅L ⋅m⎠ ⎥   ⎢0⎥\n",
       "⎢                                          ⎥   ⎢ ⎥\n",
       "⎢       2                 ⎛  48⋅g   18⋅kₚ ⎞⎥   ⎣0⎦\n",
       "⎢\\lambda ⋅x_{12} + x_{12}⋅⎜- ──── - ──────⎟⎥      \n",
       "⎢                         ⎜  7⋅L       2  ⎟⎥      \n",
       "⎣                         ⎝         7⋅L ⋅m⎠⎦      "
      ]
     },
     "execution_count": 30,
     "metadata": {},
     "output_type": "execute_result"
    }
   ],
   "source": [
    "# 1st EVP Equation\n",
    "eq1 = Eq(evp*w1,zeros(w1.shape[0],1))\n",
    "eq1"
   ]
  },
  {
   "cell_type": "code",
   "execution_count": 32,
   "id": "547659d2",
   "metadata": {},
   "outputs": [
    {
     "data": {
      "image/png": "[encoded data removed]",
      "text/latex": [
       "$\\displaystyle \\left[\\begin{matrix}0\\\\0\\\\\\lambda^{2} x_{21} + x_{22} \\cdot \\left(\\frac{18 g}{7 L} + \\frac{12 k_{p}}{7 L^{2} m}\\right)\\\\\\lambda^{2} x_{22} + x_{22} \\left(- \\frac{48 g}{7 L} - \\frac{18 k_{p}}{7 L^{2} m}\\right)\\end{matrix}\\right] = \\left[\\begin{matrix}0\\\\0\\\\0\\\\0\\end{matrix}\\right]$"
      ],
      "text/plain": [
       "⎡                    0                     ⎤      \n",
       "⎢                                          ⎥      \n",
       "⎢                    0                     ⎥      \n",
       "⎢                                          ⎥   ⎡0⎤\n",
       "⎢        2                 ⎛18⋅g   12⋅kₚ ⎞ ⎥   ⎢ ⎥\n",
       "⎢ \\lambda ⋅x_{21} + x_{22}⋅⎜──── + ──────⎟ ⎥   ⎢0⎥\n",
       "⎢                          ⎜7⋅L       2  ⎟ ⎥ = ⎢ ⎥\n",
       "⎢                          ⎝       7⋅L ⋅m⎠ ⎥   ⎢0⎥\n",
       "⎢                                          ⎥   ⎢ ⎥\n",
       "⎢       2                 ⎛  48⋅g   18⋅kₚ ⎞⎥   ⎣0⎦\n",
       "⎢\\lambda ⋅x_{22} + x_{22}⋅⎜- ──── - ──────⎟⎥      \n",
       "⎢                         ⎜  7⋅L       2  ⎟⎥      \n",
       "⎣                         ⎝         7⋅L ⋅m⎠⎦      "
      ]
     },
     "execution_count": 32,
     "metadata": {},
     "output_type": "execute_result"
    }
   ],
   "source": [
    "# 2nd EVP Equation\n",
    "eq2 = Eq(evp*w2,zeros(w2.shape[0],1))\n",
    "eq2"
   ]
  },
  {
   "cell_type": "markdown",
   "id": "761bf2e3",
   "metadata": {},
   "source": [
    "***The system comes out as only MARGINALLY STABLE for*** $K_p < -\\frac{8mgL}{3}$"
   ]
  },
  {
   "cell_type": "markdown",
   "id": "18b10cdd",
   "metadata": {},
   "source": [
    "## Sketching the Eigenvalues for varying Proportional Controller Gains"
   ]
  },
  {
   "cell_type": "code",
   "execution_count": 35,
   "id": "b6e93f72",
   "metadata": {},
   "outputs": [
    {
     "data": {
      "image/png": "[encoded data removed]",
      "text/latex": [
       "$\\displaystyle \\frac{\\sqrt{336 L g + \\frac{126 k_{p}}{m}}}{7 L}$"
      ],
      "text/plain": [
       "    __________________\n",
       "   ╱           126⋅kₚ \n",
       "  ╱  336⋅L⋅g + ────── \n",
       "╲╱               m    \n",
       "──────────────────────\n",
       "         7⋅L          "
      ]
     },
     "execution_count": 35,
     "metadata": {},
     "output_type": "execute_result"
    }
   ],
   "source": [
    "# 3rd Eigenvalue\n",
    "lbda3 = lbdas[1]\n",
    "# 4th Eigenvalue\n",
    "lbda4 = lbdas[2]\n",
    "lbda4"
   ]
  },
  {
   "cell_type": "markdown",
   "id": "7048b00c",
   "metadata": {},
   "source": [
    "For getting the trend of Eigenvalues wrt changing proportional gains, it is assumed that:\n",
    "$$m = 1 Kg$$\n",
    "$$L = 1 m$$\n",
    "$$g = 9.81 m/s^2$$\n",
    "\n",
    "A specific range is defined for Kp:"
   ]
  },
  {
   "cell_type": "code",
   "execution_count": 48,
   "id": "1de5f3e2",
   "metadata": {},
   "outputs": [],
   "source": [
    "kpRange = np.linspace(-8*9.81/3,1000,500)\n",
    "lbda_3 = np.zeros(kpRange.shape[0])\n",
    "lbda_4 = np.zeros(kpRange.shape[0])\n",
    "\n",
    "for i in range(0,kpRange.shape[0]):\n",
    "    lbda_3[i] = lbda3.subs([(kp,kpRange[i]),(m,1),(L,1),(g,9.81)])\n",
    "    lbda_4[i] = lbda4.subs([(kp,kpRange[i]),(m,1),(L,1),(g,9.81)])\n",
    "\n"
   ]
  },
  {
   "cell_type": "code",
   "execution_count": 50,
   "id": "b7a23d7e",
   "metadata": {},
   "outputs": [
    {
     "data": {
      "text/plain": [
       "Text(0, 0.5, 'Eigenvalue')"
      ]
     },
     "execution_count": 50,
     "metadata": {},
     "output_type": "execute_result"
    },
    {
     "data": {
      "image/png": "[encoded data removed]",
      "text/plain": [
       "<Figure size 720x720 with 2 Axes>"
      ]
     },
     "metadata": {
      "needs_background": "light"
     },
     "output_type": "display_data"
    }
   ],
   "source": [
    "# Plotting\n",
    "fig,(ax1,ax2) = plt.subplots(nrows = 2, ncols = 1,figsize = (10,10))\n",
    "ax1.plot(kpRange,lbda_3)\n",
    "ax1.grid()\n",
    "ax1.set_title('3rd Eigenvalue')\n",
    "ax1.set_xlabel('Propotional Controller Gain')\n",
    "ax1.set_ylabel('Eigenvalue')\n",
    "ax2.plot(kpRange,lbda_4)\n",
    "ax2.grid()\n",
    "ax2.set_title('4th Eigenvalue')\n",
    "ax2.set_xlabel('Propotional Controller Gain')\n",
    "ax2.set_ylabel('Eigenvalue')"
   ]
  },
  {
   "cell_type": "code",
   "execution_count": null,
   "id": "098bcdcf",
   "metadata": {},
   "outputs": [],
   "source": []
  }
 ],
 "metadata": {
  "kernelspec": {
   "display_name": "Python 3 (ipykernel)",
   "language": "python",
   "name": "python3"
  },
  "language_info": {
   "codemirror_mode": {
    "name": "ipython",
    "version": 3
   },
   "file_extension": ".py",
   "mimetype": "text/x-python",
   "name": "python",
   "nbconvert_exporter": "python",
   "pygments_lexer": "ipython3",
   "version": "3.8.12"
  }
 },
 "nbformat": 4,
 "nbformat_minor": 5
}
