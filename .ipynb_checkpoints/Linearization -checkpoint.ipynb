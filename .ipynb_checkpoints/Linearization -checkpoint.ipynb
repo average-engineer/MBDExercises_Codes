{
 "cells": [
  {
   "cell_type": "code",
   "execution_count": 251,
   "id": "6c01be1c",
   "metadata": {},
   "outputs": [],
   "source": [
    "import sympy as syms\n",
    "import numpy as np\n",
    "import math\n",
    "\n",
    "from sympy import * # For basic mathematical operations\n",
    "from sympy import symbols\n",
    "from sympy import Matrix\n",
    "from sympy import latex\n",
    "from sympy import solve\n",
    "from sympy import trigsimp # For simplifying trigonometric identities\n",
    "from sympy.simplify.fu import fu # For simplifying trigonometric identities (Hongguang Fu's Trigonometric Simplification)\n",
    "from sympy import Function # For expressing functions of time\n",
    "from sympy import expand, factor # For expanding/factoring expressions\n",
    "from sympy import Eq # For writing equations"
   ]
  },
  {
   "cell_type": "markdown",
   "id": "a10a2cbd",
   "metadata": {},
   "source": [
    "## Problem\n",
    "\n",
    "The following linearisation problem is given:\n",
    "\n",
    "![sys](Images/Linearizaton%20Problem.jpg)\n",
    "\n",
    "The points of equilibrium (*about which linearisation can be carried out*) are given as: \n",
    "![sys](Images/LinearizationEqbPoints.jpg)\n",
    "\n",
    "### Objective:\n",
    "**Obtaining the EOM in minimal coordinates using Lagrangian of 2nd Kind and then linearising the system about the given equilibrium points**"
   ]
  },
  {
   "cell_type": "code",
   "execution_count": 143,
   "id": "6c3f4859",
   "metadata": {},
   "outputs": [],
   "source": [
    "m1,m2,L,r,a,b,c,g,t = symbols('m_1 m_2 L r a b c g t')\n",
    "# All Generalised Coordinates are functions of time\n",
    "psi = Function('\\psi')\n",
    "psi = psi(t)\n",
    "psi_d = Function('\\dot{\\psi}')\n",
    "psi_d = psi_d(t)\n",
    "psi_dd = Function('\\ddot{\\psi}')\n",
    "psi_dd = psi_dd(t)\n",
    "s = Function('s')\n",
    "s = s(t)\n",
    "s_d = Function('\\dot{s}')\n",
    "s_d = s_d(t)\n",
    "s_dd = Function('\\ddot{s}')\n",
    "s_dd = s_dd(t)"
   ]
  },
  {
   "cell_type": "markdown",
   "id": "270d3ebf",
   "metadata": {},
   "source": [
    "## Generalised Coordinates"
   ]
  },
  {
   "cell_type": "code",
   "execution_count": 146,
   "id": "260c487d",
   "metadata": {},
   "outputs": [],
   "source": [
    "q = Matrix([[psi],[s]])\n",
    "q_d = Matrix([[psi_d],[s_d]])\n",
    "q_dd = Matrix([[psi_dd],[s_dd]])"
   ]
  },
  {
   "cell_type": "markdown",
   "id": "523460d1",
   "metadata": {},
   "source": [
    "## Kinematics\n",
    "**Important Kinematic Measures**:\n",
    "* Rotation Matrices from one frame to another\n",
    "* Position Vectors of the COM of each body\n",
    "* Linear velocity vectors of each body\n",
    "* Rotation velocity vectors of each extended body"
   ]
  },
  {
   "cell_type": "markdown",
   "id": "47837b3c",
   "metadata": {},
   "source": [
    "## Rotation Matrices"
   ]
  },
  {
   "cell_type": "code",
   "execution_count": 147,
   "id": "695bcbb3",
   "metadata": {},
   "outputs": [
    {
     "data": {
      "text/latex": [
       "$\\displaystyle \\left[\\begin{matrix}\\cos{\\left(\\psi{\\left(t \\right)} \\right)} & - \\sin{\\left(\\psi{\\left(t \\right)} \\right)} & 0\\\\\\sin{\\left(\\psi{\\left(t \\right)} \\right)} & \\cos{\\left(\\psi{\\left(t \\right)} \\right)} & 0\\\\0 & 0 & 1\\end{matrix}\\right]$"
      ],
      "text/plain": [
       "Matrix([\n",
       "[cos(\\psi(t)), -sin(\\psi(t)), 0],\n",
       "[sin(\\psi(t)),  cos(\\psi(t)), 0],\n",
       "[           0,             0, 1]])"
      ]
     },
     "execution_count": 147,
     "metadata": {},
     "output_type": "execute_result"
    }
   ],
   "source": [
    "# Rotation of frame 1 wrt inertial frame\n",
    "# Frame 1 is just rotated by psi wrt inertial frame\n",
    "S_01 = Matrix([[cos(psi),-sin(psi),0],[sin(psi),cos(psi),0],[0,0,1]])\n",
    "\n",
    "# Rotation of Frame 2 wrt Frame 1\n",
    "# Frame 2 can be assumed to be just linearly translated wrt Frame 1\n",
    "S_12 = Matrix([[1,0,0],[0,1,0],[0,0,1]])\n",
    "\n",
    "# Rotation of Frame 2 wrt Inertial Frame\n",
    "S_02 = S_01*S_12\n",
    "S_02"
   ]
  },
  {
   "cell_type": "markdown",
   "id": "a2921462",
   "metadata": {},
   "source": [
    "## Position Vectors"
   ]
  },
  {
   "cell_type": "code",
   "execution_count": 148,
   "id": "1d02cec6",
   "metadata": {},
   "outputs": [
    {
     "data": {
      "text/latex": [
       "$\\displaystyle \\left[\\begin{matrix}\\frac{L \\cos{\\left(\\psi{\\left(t \\right)} \\right)}}{2}\\\\\\frac{L \\sin{\\left(\\psi{\\left(t \\right)} \\right)}}{2}\\\\0\\end{matrix}\\right]$"
      ],
      "text/plain": [
       "Matrix([\n",
       "[L*cos(\\psi(t))/2],\n",
       "[L*sin(\\psi(t))/2],\n",
       "[               0]])"
      ]
     },
     "execution_count": 148,
     "metadata": {},
     "output_type": "execute_result"
    }
   ],
   "source": [
    "# Position Vector of Body 1 wrt Frame 1\n",
    "r1s1 = Matrix([[L/2],[0],[0]])\n",
    "# Position Vector of Body 1 wrt Inertial Frame\n",
    "r0s1 = S_01*r1s1 # Since Frame 1 just rotates about the inertial frame\n",
    "r0s1"
   ]
  },
  {
   "cell_type": "code",
   "execution_count": 149,
   "id": "5c47cee6",
   "metadata": {},
   "outputs": [
    {
     "data": {
      "text/latex": [
       "$\\displaystyle \\left[\\begin{matrix}\\left(L + \\frac{a}{2} + s{\\left(t \\right)}\\right) \\cos{\\left(\\psi{\\left(t \\right)} \\right)}\\\\\\left(L + \\frac{a}{2} + s{\\left(t \\right)}\\right) \\sin{\\left(\\psi{\\left(t \\right)} \\right)}\\\\0\\end{matrix}\\right]$"
      ],
      "text/plain": [
       "Matrix([\n",
       "[(L + a/2 + s(t))*cos(\\psi(t))],\n",
       "[(L + a/2 + s(t))*sin(\\psi(t))],\n",
       "[                            0]])"
      ]
     },
     "execution_count": 149,
     "metadata": {},
     "output_type": "execute_result"
    }
   ],
   "source": [
    "# Position Vector of Body 2 wrt Frame 2\n",
    "r2s2 = Matrix([[0],[0],[0]])\n",
    "# Position Vector of Body 2 wrt Frame 1\n",
    "r1s2 = r2s2 + Matrix([[L + s + (a/2)],[0],[0]]) # Frame 2 is just translated wrt Frame 1\n",
    "# Position Vector of Body 2 wrt Inertial Frame\n",
    "r0s2 = S_01*r1s2\n",
    "r0s2"
   ]
  },
  {
   "cell_type": "markdown",
   "id": "acaabb88",
   "metadata": {},
   "source": [
    "## Linear Velocity Vectors\n",
    "**Since there is no term explicitly depending on time (and not the generalised coordinates), we just need the translation jacobians for both the bodies**\n",
    "\n",
    "### Translational Jacobians"
   ]
  },
  {
   "cell_type": "code",
   "execution_count": 150,
   "id": "ab7f85f0",
   "metadata": {},
   "outputs": [
    {
     "data": {
      "text/latex": [
       "$\\displaystyle \\left[\\begin{matrix}- \\frac{L \\sin{\\left(\\psi{\\left(t \\right)} \\right)}}{2} & 0\\\\\\frac{L \\cos{\\left(\\psi{\\left(t \\right)} \\right)}}{2} & 0\\\\0 & 0\\end{matrix}\\right]$"
      ],
      "text/plain": [
       "Matrix([\n",
       "[-L*sin(\\psi(t))/2, 0],\n",
       "[ L*cos(\\psi(t))/2, 0],\n",
       "[                0, 0]])"
      ]
     },
     "execution_count": 150,
     "metadata": {},
     "output_type": "execute_result"
    }
   ],
   "source": [
    "# Translational Jacobians for Body 1\n",
    "J_t1 = Matrix([[diff(r0s1,psi),diff(r0s1,s)]])\n",
    "J_t1"
   ]
  },
  {
   "cell_type": "code",
   "execution_count": 151,
   "id": "e07029f9",
   "metadata": {},
   "outputs": [
    {
     "data": {
      "text/latex": [
       "$\\displaystyle \\left[\\begin{matrix}- \\left(L + \\frac{a}{2} + s{\\left(t \\right)}\\right) \\sin{\\left(\\psi{\\left(t \\right)} \\right)} & \\cos{\\left(\\psi{\\left(t \\right)} \\right)}\\\\\\left(L + \\frac{a}{2} + s{\\left(t \\right)}\\right) \\cos{\\left(\\psi{\\left(t \\right)} \\right)} & \\sin{\\left(\\psi{\\left(t \\right)} \\right)}\\\\0 & 0\\end{matrix}\\right]$"
      ],
      "text/plain": [
       "Matrix([\n",
       "[-(L + a/2 + s(t))*sin(\\psi(t)), cos(\\psi(t))],\n",
       "[ (L + a/2 + s(t))*cos(\\psi(t)), sin(\\psi(t))],\n",
       "[                             0,            0]])"
      ]
     },
     "execution_count": 151,
     "metadata": {},
     "output_type": "execute_result"
    }
   ],
   "source": [
    "# Translational Jacobian for Body 2\n",
    "J_t2 = Matrix([[diff(r0s2,psi),diff(r0s2,s)]])\n",
    "J_t2"
   ]
  },
  {
   "cell_type": "markdown",
   "id": "76dbf6db",
   "metadata": {},
   "source": [
    "### Local Translational Velocties"
   ]
  },
  {
   "cell_type": "code",
   "execution_count": 152,
   "id": "04b50a82",
   "metadata": {},
   "outputs": [],
   "source": [
    "vloc_1 = Matrix([[0],[0],[0]]) # Body 1\n",
    "vloc_2 = Matrix([[0],[0],[0]]) # Body 2"
   ]
  },
  {
   "cell_type": "code",
   "execution_count": 153,
   "id": "38727ba9",
   "metadata": {},
   "outputs": [
    {
     "data": {
      "text/latex": [
       "$\\displaystyle \\left[\\begin{matrix}- \\frac{L \\dot{\\psi}{\\left(t \\right)} \\sin{\\left(\\psi{\\left(t \\right)} \\right)}}{2}\\\\\\frac{L \\dot{\\psi}{\\left(t \\right)} \\cos{\\left(\\psi{\\left(t \\right)} \\right)}}{2}\\\\0\\end{matrix}\\right]$"
      ],
      "text/plain": [
       "Matrix([\n",
       "[-L*\\dot{\\psi}(t)*sin(\\psi(t))/2],\n",
       "[ L*\\dot{\\psi}(t)*cos(\\psi(t))/2],\n",
       "[                              0]])"
      ]
     },
     "execution_count": 153,
     "metadata": {},
     "output_type": "execute_result"
    }
   ],
   "source": [
    "# Linear Velociy Vector for Body 1\n",
    "v0s1 = symbols('{}^{}v_{S1}')\n",
    "v0s1 = J_t1*q_d + vloc_1\n",
    "v0s1"
   ]
  },
  {
   "cell_type": "code",
   "execution_count": 154,
   "id": "a32208f2",
   "metadata": {},
   "outputs": [
    {
     "data": {
      "text/latex": [
       "$\\displaystyle \\left[\\begin{matrix}- \\left(L + \\frac{a}{2} + s{\\left(t \\right)}\\right) \\dot{\\psi}{\\left(t \\right)} \\sin{\\left(\\psi{\\left(t \\right)} \\right)} + \\dot{s}{\\left(t \\right)} \\cos{\\left(\\psi{\\left(t \\right)} \\right)}\\\\\\left(L + \\frac{a}{2} + s{\\left(t \\right)}\\right) \\dot{\\psi}{\\left(t \\right)} \\cos{\\left(\\psi{\\left(t \\right)} \\right)} + \\dot{s}{\\left(t \\right)} \\sin{\\left(\\psi{\\left(t \\right)} \\right)}\\\\0\\end{matrix}\\right]$"
      ],
      "text/plain": [
       "Matrix([\n",
       "[-(L + a/2 + s(t))*\\dot{\\psi}(t)*sin(\\psi(t)) + \\dot{s}(t)*cos(\\psi(t))],\n",
       "[ (L + a/2 + s(t))*\\dot{\\psi}(t)*cos(\\psi(t)) + \\dot{s}(t)*sin(\\psi(t))],\n",
       "[                                                                     0]])"
      ]
     },
     "execution_count": 154,
     "metadata": {},
     "output_type": "execute_result"
    }
   ],
   "source": [
    "# Linear Velociy Vector for Body 2\n",
    "v0s2 = symbols('{}^{}v_{S2}')\n",
    "v0s2 = J_t2*q_d + vloc_2\n",
    "v0s2"
   ]
  },
  {
   "cell_type": "markdown",
   "id": "959586a3",
   "metadata": {},
   "source": [
    "## Rotational Velocity Vectors\n",
    "**Since there is no term explicitly depending on time (and not the generalised coordinates), we just need the Rotational jacobians for both the bodies**\n",
    "\n",
    "**Since only Body 1 is extended, thus we need the rotational velocity only for Body 1**\n",
    "\n",
    "### Rotational Jacobian of Body 1\n",
    "\n",
    "In order to compute the rotational jacobian, we need the ***Infinitesimal Rotation Vector*** and its corresponding skew symmetric matrix."
   ]
  },
  {
   "cell_type": "code",
   "execution_count": 155,
   "id": "90b0f93d",
   "metadata": {},
   "outputs": [
    {
     "data": {
      "text/latex": [
       "$\\displaystyle \\left[\\begin{matrix}0\\\\0\\\\1\\end{matrix}\\right]$"
      ],
      "text/plain": [
       "Matrix([\n",
       "[0],\n",
       "[0],\n",
       "[1]])"
      ]
     },
     "execution_count": 155,
     "metadata": {},
     "output_type": "execute_result"
    }
   ],
   "source": [
    "# Skew Symmetric Matrix differentiated wrt 1st generalised Coordinate\n",
    "S10_q1 = diff(S_01,psi)*S_01.T\n",
    "# Components of Infinitesimal Rotation Vector\n",
    "s10_q1z = -fu(S10_q1[0,1]) # Z\n",
    "s10_q1y = fu(S10_q1[0,2]) # Y\n",
    "s10_q1x = -fu(S10_q1[1,2]) # X\n",
    "# Infinitesimal Rotation Vector differentiated wrt 1st Generalised Coordinate\n",
    "s10_q1 = Matrix([[s10_q1x],[s10_q1y],[s10_q1z]])\n",
    "s10_q1"
   ]
  },
  {
   "cell_type": "code",
   "execution_count": 156,
   "id": "38ae4082",
   "metadata": {},
   "outputs": [
    {
     "data": {
      "text/latex": [
       "$\\displaystyle \\left[\\begin{matrix}0\\\\0\\\\0\\end{matrix}\\right]$"
      ],
      "text/plain": [
       "Matrix([\n",
       "[0],\n",
       "[0],\n",
       "[0]])"
      ]
     },
     "execution_count": 156,
     "metadata": {},
     "output_type": "execute_result"
    }
   ],
   "source": [
    "# Skew Symmetric Matrix differentiated wrt 2nd generalised Coordinate\n",
    "S10_q2 = diff(S_01,s)*S_01.T\n",
    "# Components of Infinitesimal Rotation Vector\n",
    "s10_q2z = -fu(S10_q2[0,1]) # Z\n",
    "s10_q2y = fu(S10_q2[0,2]) # Y\n",
    "s10_q2x = -fu(S10_q2[1,2]) # X\n",
    "# Infinitesimal Rotation Vector differentiated wrt 2nd Generalised Coordinate\n",
    "s10_q2 = Matrix([[s10_q2x],[s10_q2y],[s10_q2z]])\n",
    "s10_q2"
   ]
  },
  {
   "cell_type": "code",
   "execution_count": 157,
   "id": "8b8fa074",
   "metadata": {},
   "outputs": [
    {
     "data": {
      "text/latex": [
       "$\\displaystyle \\left[\\begin{matrix}0 & 0\\\\0 & 0\\\\1 & 0\\end{matrix}\\right]$"
      ],
      "text/plain": [
       "Matrix([\n",
       "[0, 0],\n",
       "[0, 0],\n",
       "[1, 0]])"
      ]
     },
     "execution_count": 157,
     "metadata": {},
     "output_type": "execute_result"
    }
   ],
   "source": [
    "# Rotational Jacobian of Body 1\n",
    "J_r1 = Matrix([[s10_q1,s10_q2]])\n",
    "J_r1"
   ]
  },
  {
   "cell_type": "markdown",
   "id": "a18ad3d4",
   "metadata": {},
   "source": [
    "### Local Rotational Velocity for Body 1"
   ]
  },
  {
   "cell_type": "code",
   "execution_count": 158,
   "id": "02bac0e5",
   "metadata": {},
   "outputs": [],
   "source": [
    "omegaLoc_1 = Matrix([[0],[0],[0]])"
   ]
  },
  {
   "cell_type": "code",
   "execution_count": 159,
   "id": "5f34d4ea",
   "metadata": {},
   "outputs": [
    {
     "data": {
      "text/latex": [
       "$\\displaystyle \\left[\\begin{matrix}0\\\\0\\\\\\dot{\\psi}{\\left(t \\right)}\\end{matrix}\\right]$"
      ],
      "text/plain": [
       "Matrix([\n",
       "[            0],\n",
       "[            0],\n",
       "[\\dot{\\psi}(t)]])"
      ]
     },
     "execution_count": 159,
     "metadata": {},
     "output_type": "execute_result"
    }
   ],
   "source": [
    "# Rotational velocity vector for Body 1\n",
    "omega01 = symbols('{}^{0}\\omega_{1}')\n",
    "omega01 = J_r1*q_d + omegaLoc_1\n",
    "omega01"
   ]
  },
  {
   "cell_type": "markdown",
   "id": "7577f90b",
   "metadata": {},
   "source": [
    "## Kinetic Energies \n",
    "\n",
    "Body 1 will have both translational and rotational kinetic energies, while Body 2 will have only translational Kinetic Energy.\n",
    "\n",
    "### Rotational Kinetic Energy of Body 1\n",
    "To compute the Rotational Kinetic Energy, we need the inertia tensor of Body 1 defined wrt the inertial frame.\n",
    "\n",
    "#### Inertia Tensor of Body 1 wrt Frame 1"
   ]
  },
  {
   "cell_type": "code",
   "execution_count": 160,
   "id": "67f0ee7d",
   "metadata": {},
   "outputs": [
    {
     "data": {
      "text/latex": [
       "$\\displaystyle \\left[\\begin{matrix}\\frac{m_{1} r^{2}}{2} & 0 & 0\\\\0 & \\frac{L^{2} m_{1}}{12} & 0\\\\0 & 0 & \\frac{L^{2} m_{1}}{12}\\end{matrix}\\right]$"
      ],
      "text/plain": [
       "Matrix([\n",
       "[m_1*r**2/2,           0,           0],\n",
       "[         0, L**2*m_1/12,           0],\n",
       "[         0,           0, L**2*m_1/12]])"
      ]
     },
     "execution_count": 160,
     "metadata": {},
     "output_type": "execute_result"
    }
   ],
   "source": [
    "I_11 = Matrix([[Rational(1,2)*m1*(r**2),0,0],[0,Rational(1,12)*m1*(L**2),0],[0,0,Rational(1,12)*m1*(L**2)]])\n",
    "# Rational is used so as to obtain the results as fractions instead of decimals\n",
    "I_11"
   ]
  },
  {
   "cell_type": "markdown",
   "id": "ddae2a72",
   "metadata": {},
   "source": [
    "#### Inertia Tensor of Body 1 wrt Inertial Frame"
   ]
  },
  {
   "cell_type": "code",
   "execution_count": 161,
   "id": "38244d4c",
   "metadata": {},
   "outputs": [
    {
     "data": {
      "text/latex": [
       "$\\displaystyle \\left[\\begin{matrix}\\frac{L^{2} m_{1} \\sin^{2}{\\left(\\psi{\\left(t \\right)} \\right)}}{12} + \\frac{m_{1} r^{2} \\cos^{2}{\\left(\\psi{\\left(t \\right)} \\right)}}{2} & - \\frac{L^{2} m_{1} \\sin{\\left(\\psi{\\left(t \\right)} \\right)} \\cos{\\left(\\psi{\\left(t \\right)} \\right)}}{12} + \\frac{m_{1} r^{2} \\sin{\\left(\\psi{\\left(t \\right)} \\right)} \\cos{\\left(\\psi{\\left(t \\right)} \\right)}}{2} & 0\\\\- \\frac{L^{2} m_{1} \\sin{\\left(\\psi{\\left(t \\right)} \\right)} \\cos{\\left(\\psi{\\left(t \\right)} \\right)}}{12} + \\frac{m_{1} r^{2} \\sin{\\left(\\psi{\\left(t \\right)} \\right)} \\cos{\\left(\\psi{\\left(t \\right)} \\right)}}{2} & \\frac{L^{2} m_{1} \\cos^{2}{\\left(\\psi{\\left(t \\right)} \\right)}}{12} + \\frac{m_{1} r^{2} \\sin^{2}{\\left(\\psi{\\left(t \\right)} \\right)}}{2} & 0\\\\0 & 0 & \\frac{L^{2} m_{1}}{12}\\end{matrix}\\right]$"
      ],
      "text/plain": [
       "Matrix([\n",
       "[                     L**2*m_1*sin(\\psi(t))**2/12 + m_1*r**2*cos(\\psi(t))**2/2, -L**2*m_1*sin(\\psi(t))*cos(\\psi(t))/12 + m_1*r**2*sin(\\psi(t))*cos(\\psi(t))/2,           0],\n",
       "[-L**2*m_1*sin(\\psi(t))*cos(\\psi(t))/12 + m_1*r**2*sin(\\psi(t))*cos(\\psi(t))/2,                      L**2*m_1*cos(\\psi(t))**2/12 + m_1*r**2*sin(\\psi(t))**2/2,           0],\n",
       "[                                                                            0,                                                                             0, L**2*m_1/12]])"
      ]
     },
     "execution_count": 161,
     "metadata": {},
     "output_type": "execute_result"
    }
   ],
   "source": [
    "I_01 = S_01*I_11*S_01.T\n",
    "I_01"
   ]
  },
  {
   "cell_type": "code",
   "execution_count": 162,
   "id": "600891a9",
   "metadata": {},
   "outputs": [
    {
     "data": {
      "text/latex": [
       "$\\displaystyle \\frac{L^{2} m_{1} \\dot{\\psi}^{2}{\\left(t \\right)}}{24}$"
      ],
      "text/plain": [
       "L**2*m_1*\\dot{\\psi}(t)**2/24"
      ]
     },
     "execution_count": 162,
     "metadata": {},
     "output_type": "execute_result"
    }
   ],
   "source": [
    "# Rotational Kinetic Energy of Body 1\n",
    "K_rot1 = Rational(1,2)*omega01.T*I_01*omega01\n",
    "K_rot1 = fu(K_rot1[0])\n",
    "K_rot1"
   ]
  },
  {
   "cell_type": "markdown",
   "id": "753582c7",
   "metadata": {},
   "source": [
    "### Translational Kinetic Energies"
   ]
  },
  {
   "cell_type": "code",
   "execution_count": 188,
   "id": "70c8e425",
   "metadata": {},
   "outputs": [
    {
     "data": {
      "text/latex": [
       "$\\displaystyle \\frac{L^{2} m_{1} \\dot{\\psi}^{2}{\\left(t \\right)}}{8}$"
      ],
      "text/plain": [
       "L**2*m_1*\\dot{\\psi}(t)**2/8"
      ]
     },
     "execution_count": 188,
     "metadata": {},
     "output_type": "execute_result"
    }
   ],
   "source": [
    "# Translational Kinetic Enrgy for Body 1\n",
    "K_trans1 = Rational(1,2)*v0s1.T*m1*v0s1 \n",
    "K_trans1 = trigsimp(K_trans1[0])\n",
    "K_trans1"
   ]
  },
  {
   "cell_type": "code",
   "execution_count": 198,
   "id": "f549e6d0",
   "metadata": {},
   "outputs": [
    {
     "data": {
      "text/latex": [
       "$\\displaystyle m_{2} \\left(\\frac{L^{2} \\dot{\\psi}^{2}{\\left(t \\right)}}{2} + \\frac{L a \\dot{\\psi}^{2}{\\left(t \\right)}}{2} + L \\dot{\\psi}^{2}{\\left(t \\right)} s{\\left(t \\right)} + \\frac{a^{2} \\dot{\\psi}^{2}{\\left(t \\right)}}{8} + \\frac{a \\dot{\\psi}^{2}{\\left(t \\right)} s{\\left(t \\right)}}{2} + \\frac{\\dot{\\psi}^{2}{\\left(t \\right)} s^{2}{\\left(t \\right)}}{2} + \\frac{\\dot{s}^{2}{\\left(t \\right)}}{2}\\right)$"
      ],
      "text/plain": [
       "m_2*(L**2*\\dot{\\psi}(t)**2/2 + L*a*\\dot{\\psi}(t)**2/2 + L*\\dot{\\psi}(t)**2*s(t) + a**2*\\dot{\\psi}(t)**2/8 + a*\\dot{\\psi}(t)**2*s(t)/2 + \\dot{\\psi}(t)**2*s(t)**2/2 + \\dot{s}(t)**2/2)"
      ]
     },
     "execution_count": 198,
     "metadata": {},
     "output_type": "execute_result"
    }
   ],
   "source": [
    "# Translational Kinetic Enrgy for Body 2\n",
    "K_trans2 = Rational(1,2)*v0s2.T*m2*v0s2\n",
    "K_trans2 = trigsimp(expand(K_trans2[0]))\n",
    "K_trans2"
   ]
  },
  {
   "cell_type": "markdown",
   "id": "c3480113",
   "metadata": {},
   "source": [
    "### Total Kinetic Energy of the System"
   ]
  },
  {
   "cell_type": "code",
   "execution_count": 199,
   "id": "e67978b6",
   "metadata": {},
   "outputs": [
    {
     "data": {
      "text/latex": [
       "$\\displaystyle \\frac{L^{2} m_{1} \\dot{\\psi}^{2}{\\left(t \\right)}}{6} + m_{2} \\left(\\frac{L^{2} \\dot{\\psi}^{2}{\\left(t \\right)}}{2} + \\frac{L a \\dot{\\psi}^{2}{\\left(t \\right)}}{2} + L \\dot{\\psi}^{2}{\\left(t \\right)} s{\\left(t \\right)} + \\frac{a^{2} \\dot{\\psi}^{2}{\\left(t \\right)}}{8} + \\frac{a \\dot{\\psi}^{2}{\\left(t \\right)} s{\\left(t \\right)}}{2} + \\frac{\\dot{\\psi}^{2}{\\left(t \\right)} s^{2}{\\left(t \\right)}}{2} + \\frac{\\dot{s}^{2}{\\left(t \\right)}}{2}\\right)$"
      ],
      "text/plain": [
       "L**2*m_1*\\dot{\\psi}(t)**2/6 + m_2*(L**2*\\dot{\\psi}(t)**2/2 + L*a*\\dot{\\psi}(t)**2/2 + L*\\dot{\\psi}(t)**2*s(t) + a**2*\\dot{\\psi}(t)**2/8 + a*\\dot{\\psi}(t)**2*s(t)/2 + \\dot{\\psi}(t)**2*s(t)**2/2 + \\dot{s}(t)**2/2)"
      ]
     },
     "execution_count": 199,
     "metadata": {},
     "output_type": "execute_result"
    }
   ],
   "source": [
    "K_sys = K_rot1 + K_trans1 + K_trans2\n",
    "K_sys"
   ]
  },
  {
   "cell_type": "markdown",
   "id": "24c93388",
   "metadata": {},
   "source": [
    "## Potential Energies\n",
    "\n",
    "The potential energies in the system will be due to the gravity effects on Body 1 and Body 2 and the potential energy stored in the spring.\n",
    "\n",
    "*The Inertial Frame is considered as the zero potential level.*\n",
    "\n",
    "### Gravitational Potential Energy in Body 1"
   ]
  },
  {
   "cell_type": "code",
   "execution_count": 166,
   "id": "5e5f1223",
   "metadata": {},
   "outputs": [
    {
     "data": {
      "text/latex": [
       "$\\displaystyle - L g m_{1} \\cos{\\left(\\psi{\\left(t \\right)} \\right)}$"
      ],
      "text/plain": [
       "-L*g*m_1*cos(\\psi(t))"
      ]
     },
     "execution_count": 166,
     "metadata": {},
     "output_type": "execute_result"
    }
   ],
   "source": [
    "P_gra1 = -m1*g*L*cos(psi)\n",
    "P_gra1"
   ]
  },
  {
   "cell_type": "markdown",
   "id": "2caf42f0",
   "metadata": {},
   "source": [
    "### Gravitational Potential Energy in Body 2"
   ]
  },
  {
   "cell_type": "code",
   "execution_count": 167,
   "id": "ece24ec8",
   "metadata": {},
   "outputs": [
    {
     "data": {
      "text/latex": [
       "$\\displaystyle - g m_{2} \\left(L + \\frac{a}{2} + s{\\left(t \\right)}\\right) \\cos{\\left(\\psi{\\left(t \\right)} \\right)}$"
      ],
      "text/plain": [
       "-g*m_2*(L + a/2 + s(t))*cos(\\psi(t))"
      ]
     },
     "execution_count": 167,
     "metadata": {},
     "output_type": "execute_result"
    }
   ],
   "source": [
    "P_gra2 = -m2*g*(L + s + (a/2))*cos(psi)\n",
    "P_gra2"
   ]
  },
  {
   "cell_type": "markdown",
   "id": "cf139d9e",
   "metadata": {},
   "source": [
    "### Potential Energy stored in the spring\n",
    "The natural length has been given as $b$."
   ]
  },
  {
   "cell_type": "code",
   "execution_count": 168,
   "id": "f5d34e7b",
   "metadata": {},
   "outputs": [
    {
     "data": {
      "text/latex": [
       "$\\displaystyle c \\left(- b + s{\\left(t \\right)}\\right)$"
      ],
      "text/plain": [
       "c*(-b + s(t))"
      ]
     },
     "execution_count": 168,
     "metadata": {},
     "output_type": "execute_result"
    }
   ],
   "source": [
    "P_spr = c*(s - b)\n",
    "P_spr"
   ]
  },
  {
   "cell_type": "markdown",
   "id": "01225e88",
   "metadata": {},
   "source": [
    "### Total Potential Energy in the System"
   ]
  },
  {
   "cell_type": "code",
   "execution_count": 169,
   "id": "f6f7ba68",
   "metadata": {},
   "outputs": [
    {
     "data": {
      "text/latex": [
       "$\\displaystyle - L g m_{1} \\cos{\\left(\\psi{\\left(t \\right)} \\right)} + c \\left(- b + s{\\left(t \\right)}\\right) - g m_{2} \\left(L + \\frac{a}{2} + s{\\left(t \\right)}\\right) \\cos{\\left(\\psi{\\left(t \\right)} \\right)}$"
      ],
      "text/plain": [
       "-L*g*m_1*cos(\\psi(t)) + c*(-b + s(t)) - g*m_2*(L + a/2 + s(t))*cos(\\psi(t))"
      ]
     },
     "execution_count": 169,
     "metadata": {},
     "output_type": "execute_result"
    }
   ],
   "source": [
    "P_sys = P_gra1 + P_gra2 + P_spr\n",
    "P_sys"
   ]
  },
  {
   "cell_type": "markdown",
   "id": "3c2a29d5",
   "metadata": {},
   "source": [
    "## Lagrangian of the System\n",
    "\n",
    "Since the system is conservative, we can directly use the Lagrangian with the RHS being zero."
   ]
  },
  {
   "cell_type": "code",
   "execution_count": 200,
   "id": "e00a8f86",
   "metadata": {},
   "outputs": [
    {
     "data": {
      "text/latex": [
       "$\\displaystyle \\frac{L^{2} m_{1} \\dot{\\psi}^{2}{\\left(t \\right)}}{6} + L g m_{1} \\cos{\\left(\\psi{\\left(t \\right)} \\right)} - c \\left(- b + s{\\left(t \\right)}\\right) + g m_{2} \\left(L + \\frac{a}{2} + s{\\left(t \\right)}\\right) \\cos{\\left(\\psi{\\left(t \\right)} \\right)} + m_{2} \\left(\\frac{L^{2} \\dot{\\psi}^{2}{\\left(t \\right)}}{2} + \\frac{L a \\dot{\\psi}^{2}{\\left(t \\right)}}{2} + L \\dot{\\psi}^{2}{\\left(t \\right)} s{\\left(t \\right)} + \\frac{a^{2} \\dot{\\psi}^{2}{\\left(t \\right)}}{8} + \\frac{a \\dot{\\psi}^{2}{\\left(t \\right)} s{\\left(t \\right)}}{2} + \\frac{\\dot{\\psi}^{2}{\\left(t \\right)} s^{2}{\\left(t \\right)}}{2} + \\frac{\\dot{s}^{2}{\\left(t \\right)}}{2}\\right)$"
      ],
      "text/plain": [
       "L**2*m_1*\\dot{\\psi}(t)**2/6 + L*g*m_1*cos(\\psi(t)) - c*(-b + s(t)) + g*m_2*(L + a/2 + s(t))*cos(\\psi(t)) + m_2*(L**2*\\dot{\\psi}(t)**2/2 + L*a*\\dot{\\psi}(t)**2/2 + L*\\dot{\\psi}(t)**2*s(t) + a**2*\\dot{\\psi}(t)**2/8 + a*\\dot{\\psi}(t)**2*s(t)/2 + \\dot{\\psi}(t)**2*s(t)**2/2 + \\dot{s}(t)**2/2)"
      ]
     },
     "execution_count": 200,
     "metadata": {},
     "output_type": "execute_result"
    }
   ],
   "source": [
    "Lag = fu(K_sys - P_sys)\n",
    "Lag"
   ]
  },
  {
   "cell_type": "markdown",
   "id": "4a4f5d72",
   "metadata": {},
   "source": [
    "### 1st Lagrange Equation\n",
    "With respect to the 1st Generalised Coordinate"
   ]
  },
  {
   "cell_type": "code",
   "execution_count": 201,
   "id": "8cd9857f",
   "metadata": {},
   "outputs": [
    {
     "data": {
      "text/latex": [
       "$\\displaystyle - L g m_{1} \\sin{\\left(\\psi{\\left(t \\right)} \\right)} - g m_{2} \\left(L + \\frac{a}{2} + s{\\left(t \\right)}\\right) \\sin{\\left(\\psi{\\left(t \\right)} \\right)}$"
      ],
      "text/plain": [
       "-L*g*m_1*sin(\\psi(t)) - g*m_2*(L + a/2 + s(t))*sin(\\psi(t))"
      ]
     },
     "execution_count": 201,
     "metadata": {},
     "output_type": "execute_result"
    }
   ],
   "source": [
    "L_q1 = fu(diff(Lag,psi))\n",
    "L_q1"
   ]
  },
  {
   "cell_type": "code",
   "execution_count": 202,
   "id": "24b4fb8a",
   "metadata": {},
   "outputs": [
    {
     "data": {
      "text/latex": [
       "$\\displaystyle \\frac{L^{2} m_{1} \\dot{\\psi}{\\left(t \\right)}}{3} + m_{2} \\left(L^{2} \\dot{\\psi}{\\left(t \\right)} + L a \\dot{\\psi}{\\left(t \\right)} + 2 L \\dot{\\psi}{\\left(t \\right)} s{\\left(t \\right)} + \\frac{a^{2} \\dot{\\psi}{\\left(t \\right)}}{4} + a \\dot{\\psi}{\\left(t \\right)} s{\\left(t \\right)} + \\dot{\\psi}{\\left(t \\right)} s^{2}{\\left(t \\right)}\\right)$"
      ],
      "text/plain": [
       "L**2*m_1*\\dot{\\psi}(t)/3 + m_2*(L**2*\\dot{\\psi}(t) + L*a*\\dot{\\psi}(t) + 2*L*\\dot{\\psi}(t)*s(t) + a**2*\\dot{\\psi}(t)/4 + a*\\dot{\\psi}(t)*s(t) + \\dot{\\psi}(t)*s(t)**2)"
      ]
     },
     "execution_count": 202,
     "metadata": {},
     "output_type": "execute_result"
    }
   ],
   "source": [
    "L_q1d = fu(diff(Lag,psi_d))\n",
    "L_q1d"
   ]
  },
  {
   "cell_type": "code",
   "execution_count": 213,
   "id": "4a8c741a",
   "metadata": {},
   "outputs": [
    {
     "data": {
      "text/latex": [
       "$\\displaystyle \\frac{L^{2} m_{1} \\frac{d}{d t} \\dot{\\psi}{\\left(t \\right)}}{3} + L g m_{1} \\sin{\\left(\\psi{\\left(t \\right)} \\right)} + g m_{2} \\left(L + \\frac{a}{2} + s{\\left(t \\right)}\\right) \\sin{\\left(\\psi{\\left(t \\right)} \\right)} + m_{2} \\left(L^{2} \\frac{d}{d t} \\dot{\\psi}{\\left(t \\right)} + L a \\frac{d}{d t} \\dot{\\psi}{\\left(t \\right)} + 2 L \\dot{\\psi}{\\left(t \\right)} \\frac{d}{d t} s{\\left(t \\right)} + 2 L s{\\left(t \\right)} \\frac{d}{d t} \\dot{\\psi}{\\left(t \\right)} + \\frac{a^{2} \\frac{d}{d t} \\dot{\\psi}{\\left(t \\right)}}{4} + a \\dot{\\psi}{\\left(t \\right)} \\frac{d}{d t} s{\\left(t \\right)} + a s{\\left(t \\right)} \\frac{d}{d t} \\dot{\\psi}{\\left(t \\right)} + 2 \\dot{\\psi}{\\left(t \\right)} s{\\left(t \\right)} \\frac{d}{d t} s{\\left(t \\right)} + s^{2}{\\left(t \\right)} \\frac{d}{d t} \\dot{\\psi}{\\left(t \\right)}\\right)$"
      ],
      "text/plain": [
       "L**2*m_1*Derivative(\\dot{\\psi}(t), t)/3 + L*g*m_1*sin(\\psi(t)) + g*m_2*(L + a/2 + s(t))*sin(\\psi(t)) + m_2*(L**2*Derivative(\\dot{\\psi}(t), t) + L*a*Derivative(\\dot{\\psi}(t), t) + 2*L*\\dot{\\psi}(t)*Derivative(s(t), t) + 2*L*s(t)*Derivative(\\dot{\\psi}(t), t) + a**2*Derivative(\\dot{\\psi}(t), t)/4 + a*\\dot{\\psi}(t)*Derivative(s(t), t) + a*s(t)*Derivative(\\dot{\\psi}(t), t) + 2*\\dot{\\psi}(t)*s(t)*Derivative(s(t), t) + s(t)**2*Derivative(\\dot{\\psi}(t), t))"
      ]
     },
     "execution_count": 213,
     "metadata": {},
     "output_type": "execute_result"
    }
   ],
   "source": [
    "eqn1 = fu(diff(L_q1d,t) - L_q1)\n",
    "eqn1"
   ]
  },
  {
   "cell_type": "markdown",
   "id": "83404f97",
   "metadata": {},
   "source": [
    "### 2nd Lagrange Equation\n",
    "With respect to the 2nd Generalised Coordinate"
   ]
  },
  {
   "cell_type": "code",
   "execution_count": 204,
   "id": "2dde6233",
   "metadata": {},
   "outputs": [
    {
     "data": {
      "text/latex": [
       "$\\displaystyle - c + g m_{2} \\cos{\\left(\\psi{\\left(t \\right)} \\right)} + m_{2} \\left(L \\dot{\\psi}^{2}{\\left(t \\right)} + \\frac{a \\dot{\\psi}^{2}{\\left(t \\right)}}{2} + \\dot{\\psi}^{2}{\\left(t \\right)} s{\\left(t \\right)}\\right)$"
      ],
      "text/plain": [
       "-c + g*m_2*cos(\\psi(t)) + m_2*(L*\\dot{\\psi}(t)**2 + a*\\dot{\\psi}(t)**2/2 + \\dot{\\psi}(t)**2*s(t))"
      ]
     },
     "execution_count": 204,
     "metadata": {},
     "output_type": "execute_result"
    }
   ],
   "source": [
    "L_q2 = fu(diff(Lag,s))\n",
    "L_q2"
   ]
  },
  {
   "cell_type": "code",
   "execution_count": 205,
   "id": "1fae76b0",
   "metadata": {},
   "outputs": [
    {
     "data": {
      "text/latex": [
       "$\\displaystyle m_{2} \\dot{s}{\\left(t \\right)}$"
      ],
      "text/plain": [
       "m_2*\\dot{s}(t)"
      ]
     },
     "execution_count": 205,
     "metadata": {},
     "output_type": "execute_result"
    }
   ],
   "source": [
    "L_q2d = fu(diff(Lag,s_d))\n",
    "L_q2d"
   ]
  },
  {
   "cell_type": "code",
   "execution_count": 210,
   "id": "29b13b59",
   "metadata": {},
   "outputs": [
    {
     "data": {
      "text/latex": [
       "$\\displaystyle c - g m_{2} \\cos{\\left(\\psi{\\left(t \\right)} \\right)} - m_{2} \\left(L \\dot{\\psi}^{2}{\\left(t \\right)} + \\frac{a \\dot{\\psi}^{2}{\\left(t \\right)}}{2} + \\dot{\\psi}^{2}{\\left(t \\right)} s{\\left(t \\right)}\\right) + m_{2} \\frac{d}{d t} \\dot{s}{\\left(t \\right)}$"
      ],
      "text/plain": [
       "c - g*m_2*cos(\\psi(t)) - m_2*(L*\\dot{\\psi}(t)**2 + a*\\dot{\\psi}(t)**2/2 + \\dot{\\psi}(t)**2*s(t)) + m_2*Derivative(\\dot{s}(t), t)"
      ]
     },
     "execution_count": 210,
     "metadata": {},
     "output_type": "execute_result"
    }
   ],
   "source": [
    "eqn2 = fu(diff(L_q2d,t) - L_q2)\n",
    "eqn2"
   ]
  },
  {
   "cell_type": "markdown",
   "id": "812cb60b",
   "metadata": {},
   "source": [
    "## The non-linear Equations of Motion in Minimal Coordinates\n",
    "After simplification\n",
    "\n",
    "### Mass Matrix"
   ]
  },
  {
   "cell_type": "code",
   "execution_count": 215,
   "id": "6eed766d",
   "metadata": {},
   "outputs": [
    {
     "data": {
      "text/latex": [
       "$\\displaystyle \\left[\\begin{matrix}\\frac{L^{2} m_{1}}{3} + m_{2} \\left(L + \\frac{a}{2} + s{\\left(t \\right)}\\right)^{2} & 0\\\\0 & m_{2}\\end{matrix}\\right]$"
      ],
      "text/plain": [
       "Matrix([\n",
       "[L**2*m_1/3 + m_2*(L + a/2 + s(t))**2,   0],\n",
       "[                                   0, m_2]])"
      ]
     },
     "execution_count": 215,
     "metadata": {},
     "output_type": "execute_result"
    }
   ],
   "source": [
    "M_mat = Matrix([[((m1*(L**2))/3) + (m2*((L + s + (a/2))**2)),0],[0, m2]])\n",
    "M_mat"
   ]
  },
  {
   "cell_type": "markdown",
   "id": "efabe36b",
   "metadata": {},
   "source": [
    "### Vector of Gyroscopic Forces (Centripetal and Coriolis Forces)"
   ]
  },
  {
   "cell_type": "code",
   "execution_count": 217,
   "id": "cb0ca1b5",
   "metadata": {},
   "outputs": [
    {
     "data": {
      "text/latex": [
       "$\\displaystyle \\left[\\begin{matrix}2 m_{2} \\left(L + \\frac{a}{2} + s{\\left(t \\right)}\\right) \\dot{\\psi}{\\left(t \\right)} \\dot{s}{\\left(t \\right)}\\\\- m_{2} \\left(L + \\frac{a}{2} + s{\\left(t \\right)}\\right) \\dot{\\psi}^{2}{\\left(t \\right)}\\end{matrix}\\right]$"
      ],
      "text/plain": [
       "Matrix([\n",
       "[2*m_2*(L + a/2 + s(t))*\\dot{\\psi}(t)*\\dot{s}(t)],\n",
       "[         -m_2*(L + a/2 + s(t))*\\dot{\\psi}(t)**2]])"
      ]
     },
     "execution_count": 217,
     "metadata": {},
     "output_type": "execute_result"
    }
   ],
   "source": [
    "g_mat = Matrix([[2*m2*(L + s + (a/2))*psi_d*s_d],[-m2*(L + s + (a/2))*(psi_d**2)]])\n",
    "g_mat"
   ]
  },
  {
   "cell_type": "markdown",
   "id": "d080c7ee",
   "metadata": {},
   "source": [
    "### Vector of Projected Active Forces"
   ]
  },
  {
   "cell_type": "code",
   "execution_count": 219,
   "id": "98f7ae36",
   "metadata": {},
   "outputs": [
    {
     "data": {
      "text/latex": [
       "$\\displaystyle \\left[\\begin{matrix}- \\frac{L g m_{1} \\sin{\\left(\\psi{\\left(t \\right)} \\right)}}{2} - g m_{2} \\left(L + \\frac{a}{2} + s{\\left(t \\right)}\\right) \\sin{\\left(\\psi{\\left(t \\right)} \\right)}\\\\- c \\left(- b + s{\\left(t \\right)}\\right) + g m_{2} \\cos{\\left(\\psi{\\left(t \\right)} \\right)}\\end{matrix}\\right]$"
      ],
      "text/plain": [
       "Matrix([\n",
       "[-L*g*m_1*sin(\\psi(t))/2 - g*m_2*(L + a/2 + s(t))*sin(\\psi(t))],\n",
       "[                          -c*(-b + s(t)) + g*m_2*cos(\\psi(t))]])"
      ]
     },
     "execution_count": 219,
     "metadata": {},
     "output_type": "execute_result"
    }
   ],
   "source": [
    "d_mat = Matrix([[-m1*g*(L/2)*sin(psi) - m2*g*(L + s + (a/2))*sin(psi)],[m2*g*cos(psi) - c*(s-b)]])\n",
    "d_mat"
   ]
  },
  {
   "cell_type": "markdown",
   "id": "16b82e03",
   "metadata": {},
   "source": [
    "### Non Linear EOM"
   ]
  },
  {
   "cell_type": "code",
   "execution_count": 266,
   "id": "97c8fdfb",
   "metadata": {},
   "outputs": [
    {
     "data": {
      "text/latex": [
       "$\\displaystyle \\left[\\begin{matrix}2 m_{2} \\left(L + \\frac{a}{2} + s{\\left(t \\right)}\\right) \\dot{\\psi}{\\left(t \\right)} \\dot{s}{\\left(t \\right)} + \\left(\\frac{L^{2} m_{1}}{3} + m_{2} \\left(L + \\frac{a}{2} + s{\\left(t \\right)}\\right)^{2}\\right) \\ddot{\\psi}{\\left(t \\right)}\\\\- m_{2} \\left(L + \\frac{a}{2} + s{\\left(t \\right)}\\right) \\dot{\\psi}^{2}{\\left(t \\right)} + m_{2} \\ddot{s}{\\left(t \\right)}\\end{matrix}\\right] = \\left[\\begin{matrix}- \\frac{L g m_{1} \\sin{\\left(\\psi{\\left(t \\right)} \\right)}}{2} - g m_{2} \\left(L + \\frac{a}{2} + s{\\left(t \\right)}\\right) \\sin{\\left(\\psi{\\left(t \\right)} \\right)}\\\\- c \\left(- b + s{\\left(t \\right)}\\right) + g m_{2} \\cos{\\left(\\psi{\\left(t \\right)} \\right)}\\end{matrix}\\right]$"
      ],
      "text/plain": [
       "Eq(Matrix([\n",
       "[2*m_2*(L + a/2 + s(t))*\\dot{\\psi}(t)*\\dot{s}(t) + (L**2*m_1/3 + m_2*(L + a/2 + s(t))**2)*\\ddot{\\psi}(t)],\n",
       "[                                               -m_2*(L + a/2 + s(t))*\\dot{\\psi}(t)**2 + m_2*\\ddot{s}(t)]]), Matrix([\n",
       "[-L*g*m_1*sin(\\psi(t))/2 - g*m_2*(L + a/2 + s(t))*sin(\\psi(t))],\n",
       "[                          -c*(-b + s(t)) + g*m_2*cos(\\psi(t))]]))"
      ]
     },
     "execution_count": 266,
     "metadata": {},
     "output_type": "execute_result"
    }
   ],
   "source": [
    "nonlinEq = Eq(M_mat*q_dd + g_mat,d_mat)\n",
    "nonlinEq"
   ]
  },
  {
   "cell_type": "markdown",
   "id": "5f565e12",
   "metadata": {},
   "source": [
    "## Equilibrium Points\n",
    "The points about which the system will be linearlised"
   ]
  },
  {
   "cell_type": "code",
   "execution_count": 223,
   "id": "38611e38",
   "metadata": {},
   "outputs": [],
   "source": [
    "psi_s = syms.pi/3\n",
    "s_s = a/2\n",
    "q_s = Matrix([[psi_s],[s_s]])\n",
    "q_sd = diff(q_s,t) # Reference generalised velocities\n",
    "q_sd\n",
    "q_sdd = diff(q_sd,t) # Reference generalised accelerations"
   ]
  },
  {
   "cell_type": "markdown",
   "id": "582612d0",
   "metadata": {},
   "source": [
    "# Linearization\n",
    "\n",
    "### Matrix of Inertial Forces"
   ]
  },
  {
   "cell_type": "code",
   "execution_count": 226,
   "id": "a5511535",
   "metadata": {},
   "outputs": [
    {
     "data": {
      "text/latex": [
       "$\\displaystyle \\left[\\begin{matrix}\\frac{L^{2} m_{1}}{3} + m_{2} \\left(L + a\\right)^{2} & 0\\\\0 & m_{2}\\end{matrix}\\right]$"
      ],
      "text/plain": [
       "Matrix([\n",
       "[L**2*m_1/3 + m_2*(L + a)**2,   0],\n",
       "[                          0, m_2]])"
      ]
     },
     "execution_count": 226,
     "metadata": {},
     "output_type": "execute_result"
    }
   ],
   "source": [
    "M = M_mat.subs([(psi,psi_s),(s,s_s)])\n",
    "M"
   ]
  },
  {
   "cell_type": "markdown",
   "id": "46772664",
   "metadata": {},
   "source": [
    "### Matrix of Velocity Dependent Forces\n"
   ]
  },
  {
   "cell_type": "code",
   "execution_count": 238,
   "id": "59917fcb",
   "metadata": {},
   "outputs": [
    {
     "data": {
      "text/latex": [
       "$\\displaystyle \\left[\\begin{matrix}0 & 0\\\\0 & 0\\end{matrix}\\right]$"
      ],
      "text/plain": [
       "Matrix([\n",
       "[0, 0],\n",
       "[0, 0]])"
      ]
     },
     "execution_count": 238,
     "metadata": {},
     "output_type": "execute_result"
    }
   ],
   "source": [
    "G_d = Matrix([[diff(g_mat,psi_d),diff(g_mat,s_d)]])\n",
    "G_d = G_d.subs([(psi_d,diff(psi_s,t)),(s_d,diff(s_s,t)),(psi,psi_s),(s,s_s)])\n",
    "D_d = Matrix([[diff(d_mat,psi_d),diff(d_mat,s_d)]])\n",
    "D_d = D_d.subs([(psi_d,diff(psi_s,t)),(s_d,diff(s_s,t)),(psi,psi_s),(s,s_s)])\n",
    "P = G_d - D_d\n",
    "P"
   ]
  },
  {
   "cell_type": "markdown",
   "id": "753e3c0b",
   "metadata": {},
   "source": [
    "### Matrix of Position Dependent Forces"
   ]
  },
  {
   "cell_type": "code",
   "execution_count": 263,
   "id": "89df01ce",
   "metadata": {},
   "outputs": [
    {
     "data": {
      "text/latex": [
       "$\\displaystyle \\left[\\begin{matrix}\\frac{L g m_{1}}{4} + \\frac{g m_{2} \\left(L + a\\right)}{2} & \\frac{\\sqrt{3} g m_{2}}{2}\\\\\\frac{\\sqrt{3} g m_{2}}{2} & c\\end{matrix}\\right]$"
      ],
      "text/plain": [
       "Matrix([\n",
       "[L*g*m_1/4 + g*m_2*(L + a)/2, sqrt(3)*g*m_2/2],\n",
       "[            sqrt(3)*g*m_2/2,               c]])"
      ]
     },
     "execution_count": 263,
     "metadata": {},
     "output_type": "execute_result"
    }
   ],
   "source": [
    "G = Matrix([[diff(g_mat,psi),diff(g_mat,s)]])\n",
    "G = G.subs([(psi,psi_s),(s,s_s),(psi_d,diff(psi_s,t)),(s_d,diff(s_s,t))])\n",
    "D = Matrix([[diff(d_mat,psi),diff(d_mat,s)]])\n",
    "D = D.subs([(psi,psi_s),(s,s_s),(psi_d,diff(psi_s,t)),(s_d,diff(s_s,t))])\n",
    "# M1 matrix\n",
    "def m1Fun(i,j): # Function which dictates how each element of matrix M1 (M1[i,j]) is going to look like\n",
    "    element = 0 # Initial Value for summation\n",
    "    for ii in range(0,M_mat.shape[0]):\n",
    "        element = element + q_sdd[ii]*diff(M_mat[i,j],q[ii])\n",
    "    return element\n",
    "\n",
    "M1 = Matrix(M_mat.shape[0],M_mat.shape[1],m1Fun)\n",
    "Q = G - D + M1\n",
    "Q"
   ]
  },
  {
   "cell_type": "markdown",
   "id": "13651323",
   "metadata": {},
   "source": [
    "### Excitation Vector"
   ]
  },
  {
   "cell_type": "code",
   "execution_count": 250,
   "id": "d5a00074",
   "metadata": {},
   "outputs": [
    {
     "data": {
      "text/latex": [
       "$\\displaystyle \\left[\\begin{matrix}- \\frac{\\sqrt{3} L g m_{1}}{4} - \\frac{\\sqrt{3} g m_{2} \\left(L + a\\right)}{2}\\\\- c \\left(\\frac{a}{2} - b\\right) + \\frac{g m_{2}}{2}\\end{matrix}\\right]$"
      ],
      "text/plain": [
       "Matrix([\n",
       "[-sqrt(3)*L*g*m_1/4 - sqrt(3)*g*m_2*(L + a)/2],\n",
       "[                      -c*(a/2 - b) + g*m_2/2]])"
      ]
     },
     "execution_count": 250,
     "metadata": {},
     "output_type": "execute_result"
    }
   ],
   "source": [
    "g_o = g_mat.subs([(psi,psi_s),(s,s_s),(psi_d,diff(psi_s,t)),(s_d,diff(s_s,t))])\n",
    "d_o = d_mat.subs([(psi,psi_s),(s,s_s),(psi_d,diff(psi_s,t)),(s_d,diff(s_s,t))])\n",
    "h = d_o - g_o - M*q_sdd\n",
    "h"
   ]
  },
  {
   "cell_type": "markdown",
   "id": "b20d1069",
   "metadata": {},
   "source": [
    "## Linear System of Equations"
   ]
  },
  {
   "cell_type": "code",
   "execution_count": 265,
   "id": "5af32844",
   "metadata": {},
   "outputs": [
    {
     "data": {
      "text/latex": [
       "$\\displaystyle \\left[\\begin{matrix}\\frac{\\sqrt{3} g m_{2} \\operatorname{x_{2}}{\\left(t \\right)}}{2} + \\left(\\frac{L^{2} m_{1}}{3} + m_{2} \\left(L + a\\right)^{2}\\right) \\frac{d^{2}}{d t^{2}} \\operatorname{x_{1}}{\\left(t \\right)} + \\left(\\frac{L g m_{1}}{4} + \\frac{g m_{2} \\left(L + a\\right)}{2}\\right) \\operatorname{x_{1}}{\\left(t \\right)}\\\\c \\operatorname{x_{2}}{\\left(t \\right)} + \\frac{\\sqrt{3} g m_{2} \\operatorname{x_{1}}{\\left(t \\right)}}{2} + m_{2} \\frac{d^{2}}{d t^{2}} \\operatorname{x_{2}}{\\left(t \\right)}\\end{matrix}\\right] = \\left[\\begin{matrix}- \\frac{\\sqrt{3} L g m_{1}}{4} - \\frac{\\sqrt{3} g m_{2} \\left(L + a\\right)}{2}\\\\- c \\left(\\frac{a}{2} - b\\right) + \\frac{g m_{2}}{2}\\end{matrix}\\right]$"
      ],
      "text/plain": [
       "Eq(Matrix([\n",
       "[sqrt(3)*g*m_2*x_2(t)/2 + (L**2*m_1/3 + m_2*(L + a)**2)*Derivative(x_1(t), (t, 2)) + (L*g*m_1/4 + g*m_2*(L + a)/2)*x_1(t)],\n",
       "[                                                      c*x_2(t) + sqrt(3)*g*m_2*x_1(t)/2 + m_2*Derivative(x_2(t), (t, 2))]]), Matrix([\n",
       "[-sqrt(3)*L*g*m_1/4 - sqrt(3)*g*m_2*(L + a)/2],\n",
       "[                      -c*(a/2 - b) + g*m_2/2]]))"
      ]
     },
     "execution_count": 265,
     "metadata": {},
     "output_type": "execute_result"
    }
   ],
   "source": [
    "x1 = Function('x_1')\n",
    "x2 = Function('x_2')\n",
    "x1 = x1(t)\n",
    "x2 = x2(t)\n",
    "x = Matrix([[x1],[x2]])\n",
    "linEq = Eq(M*diff(diff(x,t),t) + P*diff(x,t) + Q*x,h)\n",
    "linEq"
   ]
  },
  {
   "cell_type": "code",
   "execution_count": null,
   "id": "21409941",
   "metadata": {},
   "outputs": [],
   "source": []
  }
 ],
 "metadata": {
  "kernelspec": {
   "display_name": "Python 3 (ipykernel)",
   "language": "python",
   "name": "python3"
  },
  "language_info": {
   "codemirror_mode": {
    "name": "ipython",
    "version": 3
   },
   "file_extension": ".py",
   "mimetype": "text/x-python",
   "name": "python",
   "nbconvert_exporter": "python",
   "pygments_lexer": "ipython3",
   "version": "3.8.12"
  }
 },
 "nbformat": 4,
 "nbformat_minor": 5
}
