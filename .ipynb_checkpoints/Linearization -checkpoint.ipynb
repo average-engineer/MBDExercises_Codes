{
 "cells": [
  {
   "cell_type": "code",
   "execution_count": 16,
   "id": "4c862b98",
   "metadata": {},
   "outputs": [],
   "source": [
    "import sympy as syms\n",
    "import numpy as np\n",
    "import math\n",
    "\n",
    "from sympy import * # For basic mathematical operations\n",
    "from sympy import symbols\n",
    "from sympy import Matrix\n",
    "from sympy import latex\n",
    "from sympy import solve"
   ]
  },
  {
   "cell_type": "code",
   "execution_count": 17,
   "id": "1844efa6",
   "metadata": {},
   "outputs": [
    {
     "data": {
      "text/latex": [
       "$\\displaystyle \\sin{\\left(\\psi \\right)}$"
      ],
      "text/plain": [
       "sin(\\psi)"
      ]
     },
     "execution_count": 17,
     "metadata": {},
     "output_type": "execute_result"
    }
   ],
   "source": [
    "psi = symbols('\\psi')\n",
    "sin(psi)"
   ]
  },
  {
   "cell_type": "code",
   "execution_count": 18,
   "id": "d3c82cc6",
   "metadata": {},
   "outputs": [
    {
     "data": {
      "text/latex": [
       "$\\displaystyle \\left[\\begin{matrix}\\cos{\\left(\\psi \\right)} & - \\sin{\\left(\\psi \\right)} & 0\\\\\\sin{\\left(\\psi \\right)} & \\cos{\\left(\\psi \\right)} & 0\\\\0 & 0 & 1\\end{matrix}\\right]$"
      ],
      "text/plain": [
       "Matrix([\n",
       "[cos(\\psi), -sin(\\psi), 0],\n",
       "[sin(\\psi),  cos(\\psi), 0],\n",
       "[        0,          0, 1]])"
      ]
     },
     "execution_count": 18,
     "metadata": {},
     "output_type": "execute_result"
    }
   ],
   "source": [
    "S_01 = Matrix([[cos(phi),-sin(phi),0],[sin(phi),cos(phi),0],[0,0,1]])\n",
    "S_01"
   ]
  },
  {
   "cell_type": "code",
   "execution_count": 19,
   "id": "8f6115c4",
   "metadata": {},
   "outputs": [
    {
     "data": {
      "text/latex": [
       "$\\displaystyle \\left[\\begin{matrix}- \\sin{\\left(\\psi \\right)} & - \\cos{\\left(\\psi \\right)} & 0\\\\\\cos{\\left(\\psi \\right)} & - \\sin{\\left(\\psi \\right)} & 0\\\\0 & 0 & 0\\end{matrix}\\right]$"
      ],
      "text/plain": [
       "Matrix([\n",
       "[-sin(\\psi), -cos(\\psi), 0],\n",
       "[ cos(\\psi), -sin(\\psi), 0],\n",
       "[         0,          0, 0]])"
      ]
     },
     "execution_count": 19,
     "metadata": {},
     "output_type": "execute_result"
    }
   ],
   "source": [
    "diff(S_01,psi)"
   ]
  },
  {
   "cell_type": "code",
   "execution_count": null,
   "id": "473e462a",
   "metadata": {},
   "outputs": [],
   "source": []
  }
 ],
 "metadata": {
  "kernelspec": {
   "display_name": "Python 3 (ipykernel)",
   "language": "python",
   "name": "python3"
  },
  "language_info": {
   "codemirror_mode": {
    "name": "ipython",
    "version": 3
   },
   "file_extension": ".py",
   "mimetype": "text/x-python",
   "name": "python",
   "nbconvert_exporter": "python",
   "pygments_lexer": "ipython3",
   "version": "3.8.12"
  }
 },
 "nbformat": 4,
 "nbformat_minor": 5
}
