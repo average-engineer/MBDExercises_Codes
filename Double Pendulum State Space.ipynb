{
 "cells": [
  {
   "cell_type": "code",
   "execution_count": 52,
   "id": "27e49458",
   "metadata": {},
   "outputs": [],
   "source": [
    "import sympy as syms\n",
    "import numpy as np\n",
    "import math\n",
    "\n",
    "from sympy import * # For basic mathematical operations\n",
    "syms.init_printing()\n",
    "from sympy import symbols\n",
    "from sympy import Matrix\n",
    "from sympy.matrices import eye, zeros, ones, Identity # Special matrices (eye creates explicit matrix, Identity creates matrix expression)\n",
    "from sympy import latex\n",
    "from sympy import solve\n",
    "from sympy import trigsimp # For simplifying trigonometric identities\n",
    "from sympy.simplify.fu import fu # For simplifying trigonometric identities (Hongguang Fu's Trigonometric Simplification)\n",
    "from sympy import Function # For expressing functions of time\n",
    "from sympy import expand, factor # For expanding/factoring expressions\n",
    "from sympy import Eq # For writing equations"
   ]
  },
  {
   "cell_type": "markdown",
   "id": "96df1b49",
   "metadata": {},
   "source": [
    "# System Description\n",
    "\n",
    "![sys](Images/DoublePendulum.jpg)\n",
    "\n",
    "Both pendulum bobs are considered to be point masses with the same masses. The lengths of the pendulum are also considered to be the same. There is an excitation provided to the system as a result of which the system shows a translational motion $s(t)$ which is independent of the generalised coordinates and modelled as a constraint. The generalised coordinates are taken as $\\gamma_{1}$ and $\\gamma_{2}$ and the equilibrium points are null.\n",
    "\n"
   ]
  },
  {
   "cell_type": "code",
   "execution_count": 49,
   "id": "de174d86",
   "metadata": {},
   "outputs": [
    {
     "data": {
      "image/png": "[encoded data removed]",
      "text/latex": [
       "$\\displaystyle \\left[\\begin{matrix}\\ddot{\\gamma_1}{\\left(t \\right)}\\\\\\ddot{\\gamma_2}{\\left(t \\right)}\\end{matrix}\\right]$"
      ],
      "text/plain": [
       "⎡\\ddot{\\gamma_1}(t)⎤\n",
       "⎢                  ⎥\n",
       "⎣\\ddot{\\gamma_2}(t)⎦"
      ]
     },
     "execution_count": 49,
     "metadata": {},
     "output_type": "execute_result"
    }
   ],
   "source": [
    "m,g,l,t = symbols('m g L t')\n",
    "s = Function('s')\n",
    "s = s(t)\n",
    "sdd = Function('\\ddot{s}')\n",
    "sdd = sdd(t)\n",
    "a1 = Function('\\gamma_1')\n",
    "a1 = a1(t)\n",
    "a2 = Function('\\gamma_2')\n",
    "a2 = a2(t)\n",
    "a1d = Function('\\dot{\\gamma_1}')\n",
    "a1d = a1d(t)\n",
    "a2d = Function('\\dot{\\gamma_2}')\n",
    "a2d = a2d(t)\n",
    "a1dd = Function('\\ddot{\\gamma_1}')\n",
    "a1dd = a1dd(t)\n",
    "a2dd = Function('\\ddot{\\gamma_2}')\n",
    "a2dd = a2dd(t)\n",
    "x = Matrix([[a1],[a2]])\n",
    "xd = Matrix([[a1d],[a2d]])\n",
    "xdd = Matrix([[a1dd],[a2dd]])\n",
    "xdd"
   ]
  },
  {
   "cell_type": "markdown",
   "id": "bdfefd87",
   "metadata": {},
   "source": [
    "## Linearised Dynamics of the System"
   ]
  },
  {
   "cell_type": "code",
   "execution_count": 69,
   "id": "b2853676",
   "metadata": {},
   "outputs": [
    {
     "data": {
      "image/png": "[encoded data removed]",
      "text/latex": [
       "$\\displaystyle \\left[\\begin{matrix}2 L^{2} m \\ddot{\\gamma_1}{\\left(t \\right)} + L^{2} m \\ddot{\\gamma_2}{\\left(t \\right)} + 2 L g m \\gamma_{1}{\\left(t \\right)}\\\\L^{2} m \\ddot{\\gamma_1}{\\left(t \\right)} + L^{2} m \\ddot{\\gamma_2}{\\left(t \\right)} + L g m \\gamma_{2}{\\left(t \\right)}\\end{matrix}\\right] = \\left[\\begin{matrix}- 2 L m \\ddot{s}{\\left(t \\right)}\\\\- L m \\ddot{s}{\\left(t \\right)}\\end{matrix}\\right]$"
      ],
      "text/plain": [
       "⎡   2                         2                                          ⎤    \n",
       "⎢2⋅L ⋅m⋅\\ddot{\\gamma_1}(t) + L ⋅m⋅\\ddot{\\gamma_2}(t) + 2⋅L⋅g⋅m⋅\\gamma₁(t)⎥   ⎡\n",
       "⎢                                                                        ⎥ = ⎢\n",
       "⎢   2                         2                                          ⎥   ⎣\n",
       "⎣  L ⋅m⋅\\ddot{\\gamma_1}(t) + L ⋅m⋅\\ddot{\\gamma_2}(t) + L⋅g⋅m⋅\\gamma₂(t)  ⎦    \n",
       "\n",
       "                   \n",
       "-2⋅L⋅m⋅\\ddot{s}(t)⎤\n",
       "                  ⎥\n",
       " -L⋅m⋅\\ddot{s}(t) ⎦\n",
       "                   "
      ]
     },
     "execution_count": 69,
     "metadata": {},
     "output_type": "execute_result"
    }
   ],
   "source": [
    "# Matrix of Inertial Forces\n",
    "M = (m*l**2)*Matrix([[2,1],[1,1]])\n",
    "# Matrix of Velocity Dependent Forces\n",
    "P = zeros(xdd.shape[0])\n",
    "# Matrix of Position Dependent Forces\n",
    "Q = (m*g*l)*Matrix([[2,0],[0,1]])\n",
    "# Excitation Matrix\n",
    "h = -(m*l)*Matrix([[2*sdd],[sdd]])\n",
    "\n",
    "linEq = Eq(M*xdd + P*xd + Q*x,h)\n",
    "linEq"
   ]
  },
  {
   "cell_type": "markdown",
   "id": "a514c5b7",
   "metadata": {},
   "source": [
    "## State Space Representation\n",
    "\n",
    "### System Matrix"
   ]
  },
  {
   "cell_type": "code",
   "execution_count": 64,
   "id": "f00313c9",
   "metadata": {},
   "outputs": [
    {
     "data": {
      "image/png": "[encoded data removed]",
      "text/latex": [
       "$\\displaystyle \\left[\\begin{matrix}0 & 0 & 1 & 0\\\\0 & 0 & 0 & 1\\\\- \\frac{2 g}{L} & \\frac{g}{L} & 0 & 0\\\\\\frac{2 g}{L} & - \\frac{2 g}{L} & 0 & 0\\end{matrix}\\right]$"
      ],
      "text/plain": [
       "⎡  0      0    1  0⎤\n",
       "⎢                  ⎥\n",
       "⎢  0      0    0  1⎥\n",
       "⎢                  ⎥\n",
       "⎢-2⋅g     g        ⎥\n",
       "⎢─────    ─    0  0⎥\n",
       "⎢  L      L        ⎥\n",
       "⎢                  ⎥\n",
       "⎢ 2⋅g   -2⋅g       ⎥\n",
       "⎢ ───   ─────  0  0⎥\n",
       "⎣  L      L        ⎦"
      ]
     },
     "execution_count": 64,
     "metadata": {},
     "output_type": "execute_result"
    }
   ],
   "source": [
    "A = Matrix([[zeros(xdd.shape[0]),eye(xdd.shape[0])],[-(M**(-1))*Q,-(M**(-1))*P]])\n",
    "A"
   ]
  },
  {
   "cell_type": "markdown",
   "id": "a3024b66",
   "metadata": {},
   "source": [
    "### State Vector"
   ]
  },
  {
   "cell_type": "code",
   "execution_count": 67,
   "id": "21992074",
   "metadata": {},
   "outputs": [
    {
     "data": {
      "image/png": "[encoded data removed]",
      "text/latex": [
       "$\\displaystyle \\left[\\begin{matrix}\\dot{\\gamma_1}{\\left(t \\right)}\\\\\\dot{\\gamma_2}{\\left(t \\right)}\\\\\\ddot{\\gamma_1}{\\left(t \\right)}\\\\\\ddot{\\gamma_2}{\\left(t \\right)}\\end{matrix}\\right]$"
      ],
      "text/plain": [
       "⎡\\dot{\\gamma_1}(t) ⎤\n",
       "⎢                  ⎥\n",
       "⎢\\dot{\\gamma_2}(t) ⎥\n",
       "⎢                  ⎥\n",
       "⎢\\ddot{\\gamma_1}(t)⎥\n",
       "⎢                  ⎥\n",
       "⎣\\ddot{\\gamma_2}(t)⎦"
      ]
     },
     "execution_count": 67,
     "metadata": {},
     "output_type": "execute_result"
    }
   ],
   "source": [
    "w = Matrix([[x],[xd]])\n",
    "wd = Matrix([[xd],[xdd]])\n",
    "wd"
   ]
  },
  {
   "cell_type": "markdown",
   "id": "d53ab64b",
   "metadata": {},
   "source": [
    "### Excitation Vector\n"
   ]
  },
  {
   "cell_type": "code",
   "execution_count": 68,
   "id": "ecdc4b9f",
   "metadata": {},
   "outputs": [
    {
     "data": {
      "image/png": "[encoded data removed]",
      "text/latex": [
       "$\\displaystyle \\left[\\begin{matrix}0\\\\0\\\\- \\frac{\\ddot{s}{\\left(t \\right)}}{L}\\\\0\\end{matrix}\\right]$"
      ],
      "text/plain": [
       "⎡      0      ⎤\n",
       "⎢             ⎥\n",
       "⎢      0      ⎥\n",
       "⎢             ⎥\n",
       "⎢-\\ddot{s}(t) ⎥\n",
       "⎢─────────────⎥\n",
       "⎢      L      ⎥\n",
       "⎢             ⎥\n",
       "⎣      0      ⎦"
      ]
     },
     "execution_count": 68,
     "metadata": {},
     "output_type": "execute_result"
    }
   ],
   "source": [
    "b = Matrix([[zeros(x.shape[0],1)],[(M**(-1))*h]])\n",
    "b"
   ]
  },
  {
   "cell_type": "markdown",
   "id": "1be3d816",
   "metadata": {},
   "source": [
    "### State Space Equation\n"
   ]
  },
  {
   "cell_type": "code",
   "execution_count": 70,
   "id": "73a851bf",
   "metadata": {},
   "outputs": [
    {
     "data": {
      "image/png": "[encoded data removed]",
      "text/latex": [
       "$\\displaystyle \\left[\\begin{matrix}\\dot{\\gamma_1}{\\left(t \\right)}\\\\\\dot{\\gamma_2}{\\left(t \\right)}\\\\\\ddot{\\gamma_1}{\\left(t \\right)}\\\\\\ddot{\\gamma_2}{\\left(t \\right)}\\end{matrix}\\right] = \\left[\\begin{matrix}\\dot{\\gamma_1}{\\left(t \\right)}\\\\\\dot{\\gamma_2}{\\left(t \\right)}\\\\- \\frac{2 g \\gamma_{1}{\\left(t \\right)}}{L} + \\frac{g \\gamma_{2}{\\left(t \\right)}}{L} - \\frac{\\ddot{s}{\\left(t \\right)}}{L}\\\\\\frac{2 g \\gamma_{1}{\\left(t \\right)}}{L} - \\frac{2 g \\gamma_{2}{\\left(t \\right)}}{L}\\end{matrix}\\right]$"
      ],
      "text/plain": [
       "                       ⎡              \\dot{\\gamma_1}(t)              ⎤\n",
       "                       ⎢                                             ⎥\n",
       "⎡\\dot{\\gamma_1}(t) ⎤   ⎢              \\dot{\\gamma_2}(t)              ⎥\n",
       "⎢                  ⎥   ⎢                                             ⎥\n",
       "⎢\\dot{\\gamma_2}(t) ⎥   ⎢  2⋅g⋅\\gamma₁(t)   g⋅\\gamma₂(t)   \\ddot{s}(t)⎥\n",
       "⎢                  ⎥ = ⎢- ────────────── + ──────────── - ───────────⎥\n",
       "⎢\\ddot{\\gamma_1}(t)⎥   ⎢        L               L              L     ⎥\n",
       "⎢                  ⎥   ⎢                                             ⎥\n",
       "⎣\\ddot{\\gamma_2}(t)⎦   ⎢       2⋅g⋅\\gamma₁(t)   2⋅g⋅\\gamma₂(t)       ⎥\n",
       "                       ⎢       ────────────── - ──────────────       ⎥\n",
       "                       ⎣             L                L              ⎦"
      ]
     },
     "execution_count": 70,
     "metadata": {},
     "output_type": "execute_result"
    }
   ],
   "source": [
    "ssEq = Eq(wd,A*w + b)\n",
    "ssEq"
   ]
  },
  {
   "cell_type": "code",
   "execution_count": null,
   "id": "c3d875c9",
   "metadata": {},
   "outputs": [],
   "source": []
  }
 ],
 "metadata": {
  "kernelspec": {
   "display_name": "Python 3 (ipykernel)",
   "language": "python",
   "name": "python3"
  },
  "language_info": {
   "codemirror_mode": {
    "name": "ipython",
    "version": 3
   },
   "file_extension": ".py",
   "mimetype": "text/x-python",
   "name": "python",
   "nbconvert_exporter": "python",
   "pygments_lexer": "ipython3",
   "version": "3.8.12"
  }
 },
 "nbformat": 4,
 "nbformat_minor": 5
}
