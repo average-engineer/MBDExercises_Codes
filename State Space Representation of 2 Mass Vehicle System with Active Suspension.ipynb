{
 "cells": [
  {
   "cell_type": "code",
   "execution_count": 1,
   "id": "c764bc7a",
   "metadata": {},
   "outputs": [],
   "source": [
    "import sympy as syms\n",
    "import numpy as np\n",
    "import math\n",
    "\n",
    "from sympy import * # For basic mathematical operations\n",
    "syms.init_printing()\n",
    "from sympy import symbols\n",
    "from sympy import Matrix\n",
    "from sympy.matrices import eye, zeros, ones, Identity # Special matrices (eye creates explicit matrix, Identity creates matrix expression)\n",
    "from sympy import latex\n",
    "from sympy import solve\n",
    "from sympy import trigsimp # For simplifying trigonometric identities\n",
    "from sympy.simplify.fu import fu # For simplifying trigonometric identities (Hongguang Fu's Trigonometric Simplification)\n",
    "from sympy import Function # For expressing functions of time\n",
    "from sympy import expand, factor # For expanding/factoring expressions\n",
    "from sympy import Eq # For writing equations"
   ]
  },
  {
   "cell_type": "markdown",
   "id": "33245592",
   "metadata": {},
   "source": [
    "# Problem Description\n",
    "\n",
    "![sys](Images/2Mass_activeSus.jpg)\n",
    "\n",
    "This is a **General Mechanical System** which cannot be represented by just the EOM, but the equilibrium condition (non-holonomic constraint) is also required.\n",
    "\n",
    "## System Parameters"
   ]
  },
  {
   "cell_type": "code",
   "execution_count": 29,
   "id": "e6415bc7",
   "metadata": {},
   "outputs": [],
   "source": [
    "m1,m2,c1,c2,ca,ka,mk,t,A = symbols('m_1,m_2,c_1,c_2,c_a,k_a,m_k,t,A')\n",
    "delP = Function('p')\n",
    "delP = delP(t) # Pressure difference based on which the active suspension works\n",
    "x1 = Function('x_1') # Motion of the 1st Mass\n",
    "x1 = x1(t)\n",
    "x2 = Function('x_2') # Motion of the 2nd Mass\n",
    "x2 = x2(t)\n",
    "xa = Function('x_a') # Motion of the Active Suspension\n",
    "xa = xa(t)\n",
    "x1_d = Function('\\dot{x_1}') # Velocity of the 1st Mass\n",
    "x1_d = x1_d(t)\n",
    "x2_d = Function('\\dot{x_2}') # Velocity of the 2nd Mass\n",
    "x2_d = x2_d(t)\n",
    "xa_d = Function('\\dot{x_a}') # Velocity of the Active Suspension\n",
    "xa_d = xa_d(t)\n",
    "x1_dd = Function('\\ddot{x_1}') # Acceleration of the 1st Mass\n",
    "x1_dd = x1_dd(t)\n",
    "x2_dd = Function('\\ddot{x_2}') # Acceleration of the 2nd Mass\n",
    "x2_dd = x2_dd(t)\n",
    "s = Function('s') # Excitation from the road\n",
    "s = s(t)\n",
    "\n",
    "# Generalised Coordinate Vector\n",
    "q = Matrix([[x1],[x2]])\n",
    "q_d = Matrix([[x1_d],[x2_d]])\n",
    "q_dd = Matrix([[x1_dd],[x2_dd]])\n",
    "\n",
    "# Vector for Constraint DOF\n",
    "z = Matrix([[xa]])\n",
    "z_d = Matrix([[xa_d]])"
   ]
  },
  {
   "cell_type": "markdown",
   "id": "4c61caa0",
   "metadata": {},
   "source": [
    "## Linearised Equations of Motion\n",
    "\n",
    "The linearised EOM for the general mechanical system can be written directly since only force elements/connecting elements are present here (no constraining elements like rotary joints).\n",
    "\n",
    "### Mass Matrix/ Matrix of Inertial Acceleration dependent Forces"
   ]
  },
  {
   "cell_type": "code",
   "execution_count": 6,
   "id": "dba5de4b",
   "metadata": {},
   "outputs": [
    {
     "data": {
      "image/png": "[encoded data removed]",
      "text/latex": [
       "$\\displaystyle \\left[\\begin{matrix}m_{1} & 0\\\\0 & m_{2}\\end{matrix}\\right]$"
      ],
      "text/plain": [
       "⎡m₁  0 ⎤\n",
       "⎢      ⎥\n",
       "⎣0   m₂⎦"
      ]
     },
     "execution_count": 6,
     "metadata": {},
     "output_type": "execute_result"
    }
   ],
   "source": [
    "M = Matrix([[m1,0],[0,m2]])\n",
    "M"
   ]
  },
  {
   "cell_type": "markdown",
   "id": "adaf244d",
   "metadata": {},
   "source": [
    "### Matrix of Velocity Dependent Forces"
   ]
  },
  {
   "cell_type": "code",
   "execution_count": 7,
   "id": "8cd6fee2",
   "metadata": {},
   "outputs": [
    {
     "data": {
      "image/png": "[encoded data removed]",
      "text/latex": [
       "$\\displaystyle \\left[\\begin{matrix}k_{a} & 0\\\\0 & 0\\end{matrix}\\right]$"
      ],
      "text/plain": [
       "⎡kₐ  0⎤\n",
       "⎢     ⎥\n",
       "⎣0   0⎦"
      ]
     },
     "execution_count": 7,
     "metadata": {},
     "output_type": "execute_result"
    }
   ],
   "source": [
    "P = Matrix([[ka,0],[0,0]])\n",
    "P"
   ]
  },
  {
   "cell_type": "markdown",
   "id": "a1d0b1a7",
   "metadata": {},
   "source": [
    "### Matrix of Velocity Dependent Forces"
   ]
  },
  {
   "cell_type": "code",
   "execution_count": 8,
   "id": "00934b10",
   "metadata": {},
   "outputs": [
    {
     "data": {
      "image/png": "[encoded data removed]",
      "text/latex": [
       "$\\displaystyle \\left[\\begin{matrix}c_{1} + c_{2} & - c_{2}\\\\- c_{2} & c_{2} + c_{a}\\end{matrix}\\right]$"
      ],
      "text/plain": [
       "⎡c₁ + c₂    -c₂  ⎤\n",
       "⎢                ⎥\n",
       "⎣  -c₂    c₂ + cₐ⎦"
      ]
     },
     "execution_count": 8,
     "metadata": {},
     "output_type": "execute_result"
    }
   ],
   "source": [
    "Q = Matrix([[c1 + c2,-c2],[-c2,ca + c2]])\n",
    "Q"
   ]
  },
  {
   "cell_type": "markdown",
   "id": "f27854e4",
   "metadata": {},
   "source": [
    "### Matrix associated with constraint DOF Velocity"
   ]
  },
  {
   "cell_type": "code",
   "execution_count": 9,
   "id": "e0765678",
   "metadata": {},
   "outputs": [
    {
     "data": {
      "image/png": "[encoded data removed]",
      "text/latex": [
       "$\\displaystyle \\left[\\begin{matrix}- k_{a}\\\\0\\end{matrix}\\right]$"
      ],
      "text/plain": [
       "⎡-kₐ⎤\n",
       "⎢   ⎥\n",
       "⎣ 0 ⎦"
      ]
     },
     "execution_count": 9,
     "metadata": {},
     "output_type": "execute_result"
    }
   ],
   "source": [
    "P_star = Matrix([[-ka],[0]])\n",
    "P_star"
   ]
  },
  {
   "cell_type": "markdown",
   "id": "77f8fa7a",
   "metadata": {},
   "source": [
    "### Matrix associated with constraint DOF Position"
   ]
  },
  {
   "cell_type": "code",
   "execution_count": 10,
   "id": "0372de8a",
   "metadata": {},
   "outputs": [
    {
     "data": {
      "image/png": "[encoded data removed]",
      "text/latex": [
       "$\\displaystyle \\left[\\begin{matrix}0\\\\- c_{a}\\end{matrix}\\right]$"
      ],
      "text/plain": [
       "⎡ 0 ⎤\n",
       "⎢   ⎥\n",
       "⎣-cₐ⎦"
      ]
     },
     "execution_count": 10,
     "metadata": {},
     "output_type": "execute_result"
    }
   ],
   "source": [
    "Q_star = Matrix([[0],[-ca]])\n",
    "Q_star"
   ]
  },
  {
   "cell_type": "markdown",
   "id": "5a7acc46",
   "metadata": {},
   "source": [
    "### Excitation Vector (External Excitation)"
   ]
  },
  {
   "cell_type": "code",
   "execution_count": 11,
   "id": "2e95e305",
   "metadata": {},
   "outputs": [
    {
     "data": {
      "image/png": "[encoded data removed]",
      "text/latex": [
       "$\\displaystyle \\left[\\begin{matrix}c_{1} s{\\left(t \\right)}\\\\0\\end{matrix}\\right]$"
      ],
      "text/plain": [
       "⎡c₁⋅s(t)⎤\n",
       "⎢       ⎥\n",
       "⎣   0   ⎦"
      ]
     },
     "execution_count": 11,
     "metadata": {},
     "output_type": "execute_result"
    }
   ],
   "source": [
    "h = Matrix([[c1*s],[0]])\n",
    "h"
   ]
  },
  {
   "cell_type": "markdown",
   "id": "a8aca09a",
   "metadata": {},
   "source": [
    "### Equation of Motion"
   ]
  },
  {
   "cell_type": "code",
   "execution_count": 14,
   "id": "6a495cfd",
   "metadata": {},
   "outputs": [
    {
     "data": {
      "image/png": "[encoded data removed]",
      "text/latex": [
       "$\\displaystyle \\left[\\begin{matrix}- c_{2} \\operatorname{x_{2}}{\\left(t \\right)} + k_{a} \\dot{x_1}{\\left(t \\right)} - k_{a} \\dot{x_a}{\\left(t \\right)} + m_{1} \\ddot{x_1}{\\left(t \\right)} + \\left(c_{1} + c_{2}\\right) \\operatorname{x_{1}}{\\left(t \\right)}\\\\- c_{2} \\operatorname{x_{1}}{\\left(t \\right)} - c_{a} \\operatorname{x_{a}}{\\left(t \\right)} + m_{2} \\ddot{x_2}{\\left(t \\right)} + \\left(c_{2} + c_{a}\\right) \\operatorname{x_{2}}{\\left(t \\right)}\\end{matrix}\\right] = \\left[\\begin{matrix}c_{1} s{\\left(t \\right)}\\\\0\\end{matrix}\\right]$"
      ],
      "text/plain": [
       "⎡-c₂⋅x₂(t) + kₐ⋅\\dot{x_1}(t) - kₐ⋅\\dot{x_a}(t) + m₁⋅\\ddot{x_1}(t) + (c₁ + c₂)⋅\n",
       "⎢                                                                             \n",
       "⎣            -c₂⋅x₁(t) - cₐ⋅xₐ(t) + m₂⋅\\ddot{x_2}(t) + (c₂ + cₐ)⋅x₂(t)        \n",
       "\n",
       "x₁(t)⎤   ⎡c₁⋅s(t)⎤\n",
       "     ⎥ = ⎢       ⎥\n",
       "     ⎦   ⎣   0   ⎦"
      ]
     },
     "execution_count": 14,
     "metadata": {},
     "output_type": "execute_result"
    }
   ],
   "source": [
    "eom = Eq(M*q_dd + P*q_d + Q*q + P_star*xa_d + Q_star*xa, h)\n",
    "eom"
   ]
  },
  {
   "cell_type": "markdown",
   "id": "736fe83d",
   "metadata": {},
   "source": [
    "## Force Equilibrium Condition"
   ]
  },
  {
   "cell_type": "code",
   "execution_count": 19,
   "id": "ffe1d1e2",
   "metadata": {},
   "outputs": [
    {
     "data": {
      "image/png": "[encoded data removed]",
      "text/latex": [
       "$\\displaystyle c_{a} \\left(- \\operatorname{x_{2}}{\\left(t \\right)} + \\operatorname{x_{a}}{\\left(t \\right)}\\right) + k_{a} \\left(- \\dot{x_1}{\\left(t \\right)} + \\dot{x_a}{\\left(t \\right)}\\right) = A p{\\left(t \\right)}$"
      ],
      "text/plain": [
       "cₐ⋅(-x₂(t) + xₐ(t)) + kₐ⋅(-\\dot{x_1}(t) + \\dot{x_a}(t)) = A⋅p(t)"
      ]
     },
     "execution_count": 19,
     "metadata": {},
     "output_type": "execute_result"
    }
   ],
   "source": [
    "forceEq = Eq(ca*(xa - x2) + ka*(xa_d - x1_d),delP*A)\n",
    "forceEq"
   ]
  },
  {
   "cell_type": "markdown",
   "id": "38f410cc",
   "metadata": {},
   "source": [
    "### Important Matrices from the Equilibrium Condition"
   ]
  },
  {
   "cell_type": "code",
   "execution_count": 33,
   "id": "fa4cc782",
   "metadata": {},
   "outputs": [
    {
     "data": {
      "image/png": "[encoded data removed]",
      "text/latex": [
       "$\\displaystyle \\left[\\begin{matrix}- c_{a} \\operatorname{x_{2}}{\\left(t \\right)} + c_{a} \\operatorname{x_{a}}{\\left(t \\right)} - k_{a} \\dot{x_1}{\\left(t \\right)} + k_{a} \\dot{x_a}{\\left(t \\right)}\\end{matrix}\\right] = \\left[\\begin{matrix}A p{\\left(t \\right)}\\end{matrix}\\right]$"
      ],
      "text/plain": [
       "[-cₐ⋅x₂(t) + cₐ⋅xₐ(t) - kₐ⋅\\dot{x_1}(t) + kₐ⋅\\dot{x_a}(t)] = [A⋅p(t)]"
      ]
     },
     "execution_count": 33,
     "metadata": {},
     "output_type": "execute_result"
    }
   ],
   "source": [
    "P_dash = Matrix([[-ka,0]])\n",
    "Q_dash = Matrix([[0,-ca]])\n",
    "P_stardash = Matrix([ka])\n",
    "Q_stardash = Matrix([ca])\n",
    "h_dash = Matrix([delP*A])\n",
    "fEq = Eq(P_dash*q_d + Q_dash*q + P_stardash*z_d + Q_stardash*z, h_dash) # To verify the matrices\n",
    "fEq"
   ]
  },
  {
   "cell_type": "markdown",
   "id": "3a583b09",
   "metadata": {},
   "source": [
    "## State Space Representation\n",
    "\n",
    "### State Vector"
   ]
  },
  {
   "cell_type": "code",
   "execution_count": 34,
   "id": "fe230ece",
   "metadata": {},
   "outputs": [
    {
     "data": {
      "image/png": "[encoded data removed]",
      "text/latex": [
       "$\\displaystyle \\left[\\begin{matrix}\\operatorname{x_{1}}{\\left(t \\right)}\\\\\\operatorname{x_{2}}{\\left(t \\right)}\\\\\\operatorname{x_{a}}{\\left(t \\right)}\\\\\\dot{x_1}{\\left(t \\right)}\\\\\\dot{x_2}{\\left(t \\right)}\\end{matrix}\\right]$"
      ],
      "text/plain": [
       "⎡   x₁(t)    ⎤\n",
       "⎢            ⎥\n",
       "⎢   x₂(t)    ⎥\n",
       "⎢            ⎥\n",
       "⎢   xₐ(t)    ⎥\n",
       "⎢            ⎥\n",
       "⎢\\dot{x_1}(t)⎥\n",
       "⎢            ⎥\n",
       "⎣\\dot{x_2}(t)⎦"
      ]
     },
     "execution_count": 34,
     "metadata": {},
     "output_type": "execute_result"
    }
   ],
   "source": [
    "w = Matrix([[q],[z],[q_d]])\n",
    "w"
   ]
  },
  {
   "cell_type": "markdown",
   "id": "eaa08481",
   "metadata": {},
   "source": [
    "### State Velocity Vector"
   ]
  },
  {
   "cell_type": "code",
   "execution_count": 35,
   "id": "aa0392d2",
   "metadata": {},
   "outputs": [
    {
     "data": {
      "image/png": "[encoded data removed]",
      "text/latex": [
       "$\\displaystyle \\left[\\begin{matrix}\\dot{x_1}{\\left(t \\right)}\\\\\\dot{x_2}{\\left(t \\right)}\\\\\\dot{x_a}{\\left(t \\right)}\\\\\\ddot{x_1}{\\left(t \\right)}\\\\\\ddot{x_2}{\\left(t \\right)}\\end{matrix}\\right]$"
      ],
      "text/plain": [
       "⎡\\dot{x_1}(t) ⎤\n",
       "⎢             ⎥\n",
       "⎢\\dot{x_2}(t) ⎥\n",
       "⎢             ⎥\n",
       "⎢\\dot{x_a}(t) ⎥\n",
       "⎢             ⎥\n",
       "⎢\\ddot{x_1}(t)⎥\n",
       "⎢             ⎥\n",
       "⎣\\ddot{x_2}(t)⎦"
      ]
     },
     "execution_count": 35,
     "metadata": {},
     "output_type": "execute_result"
    }
   ],
   "source": [
    "w_d = Matrix([[q_d],[z_d],[q_dd]])\n",
    "w_d"
   ]
  },
  {
   "cell_type": "markdown",
   "id": "c6261574",
   "metadata": {},
   "source": [
    "### System Matrix"
   ]
  },
  {
   "cell_type": "code",
   "execution_count": 46,
   "id": "97204847",
   "metadata": {},
   "outputs": [],
   "source": [
    "# Shape of Generalised coordinate vector (#DOF)\n",
    "f = q.shape[0]\n",
    "# Number of constraint DOFs\n",
    "m = z.shape[0]"
   ]
  },
  {
   "cell_type": "code",
   "execution_count": 45,
   "id": "34a0af90",
   "metadata": {},
   "outputs": [
    {
     "data": {
      "image/png": "[encoded data removed]",
      "text/latex": [
       "$\\displaystyle \\left[\\begin{matrix}0 & 0 & 0 & 1 & 0\\\\0 & 0 & 0 & 0 & 1\\\\0 & \\frac{c_{a}}{k_{a}} & - \\frac{c_{a}}{k_{a}} & 1 & 0\\\\- \\frac{c_{1} + c_{2}}{m_{1}} & \\frac{c_{2}}{m_{1}} + \\frac{c_{a}}{m_{1}} & - \\frac{c_{a}}{m_{1}} & 0 & 0\\\\\\frac{c_{2}}{m_{2}} & - \\frac{c_{2} + c_{a}}{m_{2}} & \\frac{c_{a}}{m_{2}} & 0 & 0\\end{matrix}\\right]$"
      ],
      "text/plain": [
       "⎡     0            0        0    1  0⎤\n",
       "⎢                                    ⎥\n",
       "⎢     0            0        0    0  1⎥\n",
       "⎢                                    ⎥\n",
       "⎢                 cₐ       -cₐ       ⎥\n",
       "⎢     0           ──       ────  1  0⎥\n",
       "⎢                 kₐ        kₐ       ⎥\n",
       "⎢                                    ⎥\n",
       "⎢-(c₁ + c₂)     c₂   cₐ    -cₐ       ⎥\n",
       "⎢───────────    ── + ──    ────  0  0⎥\n",
       "⎢     m₁        m₁   m₁     m₁       ⎥\n",
       "⎢                                    ⎥\n",
       "⎢    c₂       -(c₂ + cₐ)    cₐ       ⎥\n",
       "⎢    ──       ───────────   ──   0  0⎥\n",
       "⎣    m₂            m₂       m₂       ⎦"
      ]
     },
     "execution_count": 45,
     "metadata": {},
     "output_type": "execute_result"
    }
   ],
   "source": [
    "A = Matrix([[zeros(f),zeros(f,m),eye(f)],[-(P_stardash**-1)*Q_dash,-(P_stardash**-1)*Q_stardash,-(P_stardash**-1)*P_dash],[-(M**-1)*Q + (M**-1)*P_star*(P_stardash**-1)*Q_dash,(M**-1)*P_star*(P_stardash**-1)*Q_stardash - (M**-1)*Q_star,-(M**-1)*P + (M**-1)*P_star*(P_stardash**-1)*P_dash]])\n",
    "A"
   ]
  },
  {
   "cell_type": "markdown",
   "id": "43661801",
   "metadata": {},
   "source": [
    "### Excitation Vector (State Equation)"
   ]
  },
  {
   "cell_type": "code",
   "execution_count": 47,
   "id": "3a0a81d6",
   "metadata": {},
   "outputs": [
    {
     "data": {
      "image/png": "[encoded data removed]",
      "text/latex": [
       "$\\displaystyle \\left[\\begin{matrix}0\\\\0\\\\\\frac{A p{\\left(t \\right)}}{k_{a}}\\\\\\frac{A p{\\left(t \\right)}}{m_{1}} + \\frac{c_{1} s{\\left(t \\right)}}{m_{1}}\\\\0\\end{matrix}\\right]$"
      ],
      "text/plain": [
       "⎡       0        ⎤\n",
       "⎢                ⎥\n",
       "⎢       0        ⎥\n",
       "⎢                ⎥\n",
       "⎢     A⋅p(t)     ⎥\n",
       "⎢     ──────     ⎥\n",
       "⎢       kₐ       ⎥\n",
       "⎢                ⎥\n",
       "⎢A⋅p(t)   c₁⋅s(t)⎥\n",
       "⎢────── + ───────⎥\n",
       "⎢  m₁        m₁  ⎥\n",
       "⎢                ⎥\n",
       "⎣       0        ⎦"
      ]
     },
     "execution_count": 47,
     "metadata": {},
     "output_type": "execute_result"
    }
   ],
   "source": [
    "b = Matrix([[zeros(f,1)],[(P_stardash**-1)*h_dash],[(M**-1)*h - (M**-1)*P_star*(P_stardash**-1)*h_dash]])\n",
    "b"
   ]
  },
  {
   "cell_type": "markdown",
   "id": "4bc51300",
   "metadata": {},
   "source": [
    "### Final State Space Equation"
   ]
  },
  {
   "cell_type": "code",
   "execution_count": 48,
   "id": "137b4e1a",
   "metadata": {},
   "outputs": [
    {
     "data": {
      "image/png": "[encoded data removed]",
      "text/latex": [
       "$\\displaystyle \\left[\\begin{matrix}\\dot{x_1}{\\left(t \\right)}\\\\\\dot{x_2}{\\left(t \\right)}\\\\\\dot{x_a}{\\left(t \\right)}\\\\\\ddot{x_1}{\\left(t \\right)}\\\\\\ddot{x_2}{\\left(t \\right)}\\end{matrix}\\right] = \\left[\\begin{matrix}\\dot{x_1}{\\left(t \\right)}\\\\\\dot{x_2}{\\left(t \\right)}\\\\\\frac{A p{\\left(t \\right)}}{k_{a}} + \\frac{c_{a} \\operatorname{x_{2}}{\\left(t \\right)}}{k_{a}} - \\frac{c_{a} \\operatorname{x_{a}}{\\left(t \\right)}}{k_{a}} + \\dot{x_1}{\\left(t \\right)}\\\\\\frac{A p{\\left(t \\right)}}{m_{1}} + \\frac{c_{1} s{\\left(t \\right)}}{m_{1}} - \\frac{c_{a} \\operatorname{x_{a}}{\\left(t \\right)}}{m_{1}} + \\left(\\frac{c_{2}}{m_{1}} + \\frac{c_{a}}{m_{1}}\\right) \\operatorname{x_{2}}{\\left(t \\right)} - \\frac{\\left(c_{1} + c_{2}\\right) \\operatorname{x_{1}}{\\left(t \\right)}}{m_{1}}\\\\\\frac{c_{2} \\operatorname{x_{1}}{\\left(t \\right)}}{m_{2}} + \\frac{c_{a} \\operatorname{x_{a}}{\\left(t \\right)}}{m_{2}} - \\frac{\\left(c_{2} + c_{a}\\right) \\operatorname{x_{2}}{\\left(t \\right)}}{m_{2}}\\end{matrix}\\right]$"
      ],
      "text/plain": [
       "                  ⎡                         \\dot{x_1}(t)                      \n",
       "                  ⎢                                                           \n",
       "                  ⎢                         \\dot{x_2}(t)                      \n",
       "⎡\\dot{x_1}(t) ⎤   ⎢                                                           \n",
       "⎢             ⎥   ⎢          A⋅p(t)   cₐ⋅x₂(t)   cₐ⋅xₐ(t)                     \n",
       "⎢\\dot{x_2}(t) ⎥   ⎢          ────── + ──────── - ──────── + \\dot{x_1}(t)      \n",
       "⎢             ⎥   ⎢            kₐ        kₐ         kₐ                        \n",
       "⎢\\dot{x_a}(t) ⎥ = ⎢                                                           \n",
       "⎢             ⎥   ⎢A⋅p(t)   c₁⋅s(t)   cₐ⋅xₐ(t)   ⎛c₂   cₐ⎞         (c₁ + c₂)⋅x\n",
       "⎢\\ddot{x_1}(t)⎥   ⎢────── + ─────── - ──────── + ⎜── + ──⎟⋅x₂(t) - ───────────\n",
       "⎢             ⎥   ⎢  m₁        m₁        m₁      ⎝m₁   m₁⎠                m₁  \n",
       "⎣\\ddot{x_2}(t)⎦   ⎢                                                           \n",
       "                  ⎢             c₂⋅x₁(t)   cₐ⋅xₐ(t)   (c₂ + cₐ)⋅x₂(t)         \n",
       "                  ⎢             ──────── + ──────── - ───────────────         \n",
       "                  ⎣                m₂         m₂             m₂               \n",
       "\n",
       "    ⎤\n",
       "    ⎥\n",
       "    ⎥\n",
       "    ⎥\n",
       "    ⎥\n",
       "    ⎥\n",
       "    ⎥\n",
       "    ⎥\n",
       "₁(t)⎥\n",
       "────⎥\n",
       "    ⎥\n",
       "    ⎥\n",
       "    ⎥\n",
       "    ⎥\n",
       "    ⎦"
      ]
     },
     "execution_count": 48,
     "metadata": {},
     "output_type": "execute_result"
    }
   ],
   "source": [
    "SSR = Eq(w_d,A*w + b)\n",
    "SSR"
   ]
  },
  {
   "cell_type": "code",
   "execution_count": null,
   "id": "50903b88",
   "metadata": {},
   "outputs": [],
   "source": []
  }
 ],
 "metadata": {
  "kernelspec": {
   "display_name": "Python 3 (ipykernel)",
   "language": "python",
   "name": "python3"
  },
  "language_info": {
   "codemirror_mode": {
    "name": "ipython",
    "version": 3
   },
   "file_extension": ".py",
   "mimetype": "text/x-python",
   "name": "python",
   "nbconvert_exporter": "python",
   "pygments_lexer": "ipython3",
   "version": "3.8.12"
  }
 },
 "nbformat": 4,
 "nbformat_minor": 5
}
